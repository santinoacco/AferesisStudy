{
 "cells": [
  {
   "cell_type": "markdown",
   "metadata": {},
   "source": [
    "## Objectives"
   ]
  },
  {
   "cell_type": "code",
   "execution_count": 1,
   "metadata": {},
   "outputs": [],
   "source": [
    "# -- Importing Libraries\n",
    "import pandas as pd\n",
    "import numpy as np\n",
    "import matplotlib.pyplot as plt\n",
    "import seaborn as sns\n",
    "import sys\n",
    "# from sys.path import insert\n",
    "from os.path import join\n",
    "from scipy import stats\n",
    "from scipy.signal import correlate\n",
    "\n",
    "sys.path.insert(0,'/home/santi_noacco/Desktop/SoftwareSetup/Python/')\n",
    "import NoaccoLibrary as nlib"
   ]
  },
  {
   "cell_type": "code",
   "execution_count": 2,
   "metadata": {},
   "outputs": [],
   "source": [
    "sns.set(style='ticks',color_codes=True)\n",
    "sns.set_context(\"notebook\", font_scale=1.2, rc={\"lines.linewidth\": 2.0})\n",
    "# sns.set_style('ticks')\n",
    "\n",
    "# Font BIGGER SIZE!"
   ]
  },
  {
   "cell_type": "markdown",
   "metadata": {},
   "source": [
    "## Parameters\n",
    "\n",
    "\n",
    "_CMN Units_ :: $10^8$ $kg^{-1}$\n",
    "\n",
    "_CD34 Units_ :: $10^6$ $kg^{-1}$\n",
    "\n",
    "_nomErr Vol_ :: $1$ $ml$\n",
    "\n",
    "_nomErr interTime_ :: $1$ $day$\n"
   ]
  },
  {
   "cell_type": "code",
   "execution_count": 3,
   "metadata": {},
   "outputs": [],
   "source": [
    "# -- File paths\n",
    "data_dir = 'Datafiles'\n",
    "aferesis_file = join(data_dir,'AFERESIS_edit.xlsx')\n",
    "transp_file = join(data_dir,'TRASPLANTES.xlsx')"
   ]
  },
  {
   "cell_type": "markdown",
   "metadata": {},
   "source": [
    "### Histogram styles"
   ]
  },
  {
   "cell_type": "code",
   "execution_count": 4,
   "metadata": {},
   "outputs": [],
   "source": [
    "style_dict_1 = {\n",
    "                'density':True,            #--> normalized histogram\n",
    "                'align':'mid',             #--> place ticks in the middle\n",
    "                'histtype':'stepfilled',   #--> type\n",
    "#                 'color':'DarkBlue',        #--> linecolor\n",
    "                'linestyle':'-',          \n",
    "                'linewidth':2,\n",
    "                'alpha':0.5,               #--> how strong the shading of the filling is\n",
    "                'edgecolor':'Brown',\n",
    "                'facecolor':'Orange',   #--> color of the shading\n",
    "                }\n",
    "style_dict_2 = {\n",
    "                'density':True,            #--> normalized histogram\n",
    "                'align':'mid',             #--> place ticks in the middle\n",
    "                'histtype':'stepfilled',   #--> type\n",
    "#                 'color':'DarkBlue',        #--> linecolor\n",
    "                'linestyle':'-',          \n",
    "                'linewidth':2,\n",
    "                'alpha':0.5,               #--> how strong the shading of the filling is\n",
    "                'edgecolor':'Red',\n",
    "                'facecolor':'Pink',   #--> color of the shading\n",
    "                }\n",
    "style_dict_3 = {\n",
    "                'density':True,            #--> normalized histogram\n",
    "                'align':'mid',             #--> place ticks in the middle\n",
    "                'histtype':'stepfilled',   #--> type\n",
    "#                 'color':'DarkBlue',        #--> linecolor\n",
    "                'linestyle':'-',          \n",
    "                'linewidth':2,\n",
    "                'alpha':0.5,               #--> how strong the shading of the filling is\n",
    "                'edgecolor':'Black',\n",
    "                'facecolor':'Gray',   #--> color of the shading\n",
    "                }\n",
    "style_dict_4 = {\n",
    "                'density':True,            #--> normalized histogram\n",
    "                'align':'mid',             #--> place ticks in the middle\n",
    "                'histtype':'stepfilled',   #--> type\n",
    "#                 'color':'DarkBlue',        #--> linecolor\n",
    "                'linestyle':'-',          \n",
    "                'linewidth':2,\n",
    "                'alpha':0.5,               #--> how strong the shading of the filling is\n",
    "                'edgecolor':'DarkRed',\n",
    "                'facecolor':'Beige',   #--> color of the shading\n",
    "                }\n",
    "style_dict_5 = {\n",
    "                'density':True,            #--> normalized histogram\n",
    "                'align':'mid',             #--> place ticks in the middle\n",
    "                'histtype':'stepfilled',   #--> type\n",
    "                'linestyle':'-',          \n",
    "                'linewidth':2,\n",
    "                'alpha':0.5,               #--> how strong the shading of the filling is\n",
    "                'edgecolor':'Brown',\n",
    "                'facecolor':'Orange',   #--> color of the shading\n",
    "                }"
   ]
  },
  {
   "cell_type": "markdown",
   "metadata": {},
   "source": [
    "## Data cleaning - AFERESIS.xlsx"
   ]
  },
  {
   "cell_type": "code",
   "execution_count": 5,
   "metadata": {},
   "outputs": [],
   "source": [
    "# -- Load data to data frames from AFERESIS\n",
    "with open(aferesis_file, 'rb') as file:\n",
    "    # --Reading sheet to get oldmethod sample\n",
    "    df_OldMeth = pd.read_excel(\n",
    "        file,\n",
    "        sheet_name='COLECTAS_METODO_VIEJO',\n",
    "        header=0,\n",
    "        nrows=212\n",
    "    )\n",
    "\n",
    "    # --Reading sheet to get newmethod sample\n",
    "    df_NewMeth = pd.read_excel(\n",
    "        file,\n",
    "        sheet_name='COLECTAS_METODO_NUEVO',\n",
    "        header=0,\n",
    "        nrows=77\n",
    "#         nrows=79\n",
    "    )\n",
    "    \n",
    "def rename_cols(DataFrame):\n",
    "    DataFrame.columns = [\n",
    "        'Paciente','Fecha','Tipo_trasplante','Num_Colecta','Tiempo [min]',\n",
    "        'ACD [ml]','Volumen [ml]','DMSO [ml]','Volemias?','CMN','CD34',\n",
    "        'Sum_CMN','Sum_CD34','Inutil','Harvest'\n",
    "    ]\n",
    "    return\n",
    "        \n",
    "rename_cols(df_OldMeth)\n",
    "rename_cols(df_NewMeth)"
   ]
  },
  {
   "cell_type": "markdown",
   "metadata": {},
   "source": [
    "**Next** I replace NaN values in 'Paciente' by the previous non-NaN value.\n",
    "Also I replace 'ND' for NaN values"
   ]
  },
  {
   "cell_type": "code",
   "execution_count": 6,
   "metadata": {},
   "outputs": [],
   "source": [
    "# --Padding col Paciente Old_DF\n",
    "df_OldMeth['Paciente'].fillna(method='pad',inplace=True)\n",
    "\n",
    "# print(df_OldMeth.columns[4:])\n",
    "for col in df_OldMeth.columns[4:]:\n",
    "    df_OldMeth.loc[:,col].replace(to_replace='ND',value=np.NaN,inplace=True)"
   ]
  },
  {
   "cell_type": "code",
   "execution_count": 7,
   "metadata": {},
   "outputs": [],
   "source": [
    "# --Padding col Paciente New_DF\n",
    "df_NewMeth['Paciente'].fillna(method='pad',inplace=True)\n",
    "# df_NewMeth.head(10)\n",
    "\n",
    "# --Fill NaN values\n",
    "for col in df_NewMeth.columns[4:]:\n",
    "    df_NewMeth.loc[:,col].replace(to_replace='ND',value=np.NaN,inplace=True)\n",
    "    "
   ]
  },
  {
   "cell_type": "code",
   "execution_count": 8,
   "metadata": {},
   "outputs": [],
   "source": [
    "# --remove useless cols\n",
    "df_OldMeth.drop(axis='columns',labels=['Sum_CMN','Sum_CD34','Volemias?','Inutil','Harvest'], inplace=True)\n",
    "df_NewMeth.drop(axis='columns',labels=['Sum_CMN','Sum_CD34','Volemias?','Inutil','Harvest'], inplace=True)"
   ]
  },
  {
   "cell_type": "markdown",
   "metadata": {},
   "source": [
    "**Next**\n",
    "\n",
    "To analyse the data regarding the patients as entries I need to group the columns with a certain criteria.\n",
    "\n",
    "* For the Num_Colecta I will keep the max value, since that is what each new row represents.\n",
    "\n",
    "* For the Time and Volumes (in general) I will sum each entry of the same patient\n",
    "\n",
    "* For the Type of transplant I will keep the first time a new patient shows up. I think is unlikely that a patient changes the type of transplant in this context"
   ]
  },
  {
   "cell_type": "code",
   "execution_count": 9,
   "metadata": {},
   "outputs": [],
   "source": [
    "def group_by_Patient(DataFrame):\n",
    "\n",
    "    # --Group NumColecta by Patient keeping maximum value\n",
    "    cols_toMax = ['Paciente','Num_Colecta']\n",
    "    df_Max_fixed = DataFrame.loc[:,cols_toMax].groupby(by='Paciente').max()\n",
    "\n",
    "    # --Group by Patient suming entries values\n",
    "    cols_toSum_vol = ['Paciente','Tiempo [min]','ACD [ml]','Volumen [ml]','DMSO [ml]']\n",
    "    df_Sum_vol = DataFrame.loc[:,cols_toSum_vol].groupby(by='Paciente').sum()\n",
    "\n",
    "    cols_toSum_CMN = ['Paciente','CMN']\n",
    "    df_Sum_CMN = DataFrame.loc[:,cols_toSum_CMN].groupby(by='Paciente').sum()\n",
    "\n",
    "    cols_toSum_CD34 =['Paciente','CD34']\n",
    "    df_Sum_CD34 = DataFrame.loc[:,cols_toSum_CD34].groupby(by='Paciente').sum()\n",
    "\n",
    "    # --Group by Patient keeping the first category that pops up.\n",
    "    cols_toCat = ['Paciente','Tipo_trasplante']\n",
    "    df_Cat_fixed = DataFrame.loc[:,cols_toCat].groupby(by='Paciente').first()\n",
    "    \n",
    "    cols_toDate = ['Paciente','Fecha']\n",
    "    df_Date = DataFrame.loc[:,cols_toDate].groupby(by='Paciente').first()\n",
    "\n",
    "    df_joined = df_Max_fixed.join([df_Cat_fixed,df_Date,df_Sum_vol,df_Sum_CMN,df_Sum_CD34],how='left')\n",
    "#     df_joined = df_Max_fixed.join([df_Cat_fixed,df_Sum_vol,df_Sum_CMN,df_Sum_CD34],how='left')\n",
    "    \n",
    "    return df_joined"
   ]
  },
  {
   "cell_type": "code",
   "execution_count": 10,
   "metadata": {},
   "outputs": [],
   "source": [
    "# -- Global Edit of DF by regrouping\n",
    "df_NewMeth = group_by_Patient(df_NewMeth)\n",
    "df_OldMeth = group_by_Patient(df_OldMeth)"
   ]
  },
  {
   "cell_type": "code",
   "execution_count": 11,
   "metadata": {},
   "outputs": [
    {
     "data": {
      "text/plain": [
       "dtype('float64')"
      ]
     },
     "execution_count": 11,
     "metadata": {},
     "output_type": "execute_result"
    }
   ],
   "source": [
    "df_OldMeth['CD34'].dtype\n",
    "# df_Sum_part.columns"
   ]
  },
  {
   "cell_type": "code",
   "execution_count": 12,
   "metadata": {},
   "outputs": [
    {
     "data": {
      "text/html": [
       "<div>\n",
       "<style scoped>\n",
       "    .dataframe tbody tr th:only-of-type {\n",
       "        vertical-align: middle;\n",
       "    }\n",
       "\n",
       "    .dataframe tbody tr th {\n",
       "        vertical-align: top;\n",
       "    }\n",
       "\n",
       "    .dataframe thead th {\n",
       "        text-align: right;\n",
       "    }\n",
       "</style>\n",
       "<table border=\"1\" class=\"dataframe\">\n",
       "  <thead>\n",
       "    <tr style=\"text-align: right;\">\n",
       "      <th></th>\n",
       "      <th>Num_Colecta</th>\n",
       "      <th>Tipo_trasplante</th>\n",
       "      <th>Fecha</th>\n",
       "      <th>Tiempo [min]</th>\n",
       "      <th>ACD [ml]</th>\n",
       "      <th>Volumen [ml]</th>\n",
       "      <th>DMSO [ml]</th>\n",
       "      <th>CMN</th>\n",
       "      <th>CD34</th>\n",
       "    </tr>\n",
       "    <tr>\n",
       "      <th>Paciente</th>\n",
       "      <th></th>\n",
       "      <th></th>\n",
       "      <th></th>\n",
       "      <th></th>\n",
       "      <th></th>\n",
       "      <th></th>\n",
       "      <th></th>\n",
       "      <th></th>\n",
       "      <th></th>\n",
       "    </tr>\n",
       "  </thead>\n",
       "  <tbody>\n",
       "    <tr>\n",
       "      <th>1.0</th>\n",
       "      <td>4</td>\n",
       "      <td>AUTO</td>\n",
       "      <td>2014-10-21</td>\n",
       "      <td>0.0</td>\n",
       "      <td>0.0</td>\n",
       "      <td>1244.0</td>\n",
       "      <td>124.4</td>\n",
       "      <td>2.28</td>\n",
       "      <td>18.64</td>\n",
       "    </tr>\n",
       "    <tr>\n",
       "      <th>2.0</th>\n",
       "      <td>1</td>\n",
       "      <td>AUTO</td>\n",
       "      <td>2014-11-02</td>\n",
       "      <td>180.0</td>\n",
       "      <td>600.0</td>\n",
       "      <td>290.0</td>\n",
       "      <td>29.0</td>\n",
       "      <td>4.03</td>\n",
       "      <td>0.00</td>\n",
       "    </tr>\n",
       "    <tr>\n",
       "      <th>3.0</th>\n",
       "      <td>4</td>\n",
       "      <td>AUTO</td>\n",
       "      <td>2014-11-03</td>\n",
       "      <td>200.0</td>\n",
       "      <td>700.0</td>\n",
       "      <td>1405.0</td>\n",
       "      <td>140.5</td>\n",
       "      <td>9.99</td>\n",
       "      <td>0.00</td>\n",
       "    </tr>\n",
       "    <tr>\n",
       "      <th>4.0</th>\n",
       "      <td>5</td>\n",
       "      <td>AUTO</td>\n",
       "      <td>2014-11-11</td>\n",
       "      <td>0.0</td>\n",
       "      <td>0.0</td>\n",
       "      <td>2050.0</td>\n",
       "      <td>205.0</td>\n",
       "      <td>3.86</td>\n",
       "      <td>0.00</td>\n",
       "    </tr>\n",
       "    <tr>\n",
       "      <th>5.0</th>\n",
       "      <td>2</td>\n",
       "      <td>AUTO</td>\n",
       "      <td>2015-01-19</td>\n",
       "      <td>334.0</td>\n",
       "      <td>1477.0</td>\n",
       "      <td>483.0</td>\n",
       "      <td>48.3</td>\n",
       "      <td>2.79</td>\n",
       "      <td>1.72</td>\n",
       "    </tr>\n",
       "  </tbody>\n",
       "</table>\n",
       "</div>"
      ],
      "text/plain": [
       "          Num_Colecta Tipo_trasplante      Fecha  Tiempo [min]  ACD [ml]  \\\n",
       "Paciente                                                                   \n",
       "1.0                 4            AUTO 2014-10-21           0.0       0.0   \n",
       "2.0                 1            AUTO 2014-11-02         180.0     600.0   \n",
       "3.0                 4            AUTO 2014-11-03         200.0     700.0   \n",
       "4.0                 5            AUTO 2014-11-11           0.0       0.0   \n",
       "5.0                 2            AUTO 2015-01-19         334.0    1477.0   \n",
       "\n",
       "          Volumen [ml]  DMSO [ml]   CMN   CD34  \n",
       "Paciente                                        \n",
       "1.0             1244.0      124.4  2.28  18.64  \n",
       "2.0              290.0       29.0  4.03   0.00  \n",
       "3.0             1405.0      140.5  9.99   0.00  \n",
       "4.0             2050.0      205.0  3.86   0.00  \n",
       "5.0              483.0       48.3  2.79   1.72  "
      ]
     },
     "execution_count": 12,
     "metadata": {},
     "output_type": "execute_result"
    }
   ],
   "source": [
    "df_OldMeth.head()"
   ]
  },
  {
   "cell_type": "code",
   "execution_count": 13,
   "metadata": {},
   "outputs": [
    {
     "data": {
      "text/html": [
       "<div>\n",
       "<style scoped>\n",
       "    .dataframe tbody tr th:only-of-type {\n",
       "        vertical-align: middle;\n",
       "    }\n",
       "\n",
       "    .dataframe tbody tr th {\n",
       "        vertical-align: top;\n",
       "    }\n",
       "\n",
       "    .dataframe thead th {\n",
       "        text-align: right;\n",
       "    }\n",
       "</style>\n",
       "<table border=\"1\" class=\"dataframe\">\n",
       "  <thead>\n",
       "    <tr style=\"text-align: right;\">\n",
       "      <th></th>\n",
       "      <th>Num_Colecta</th>\n",
       "      <th>Tipo_trasplante</th>\n",
       "      <th>Fecha</th>\n",
       "      <th>Tiempo [min]</th>\n",
       "      <th>ACD [ml]</th>\n",
       "      <th>Volumen [ml]</th>\n",
       "      <th>DMSO [ml]</th>\n",
       "      <th>CMN</th>\n",
       "      <th>CD34</th>\n",
       "    </tr>\n",
       "    <tr>\n",
       "      <th>Paciente</th>\n",
       "      <th></th>\n",
       "      <th></th>\n",
       "      <th></th>\n",
       "      <th></th>\n",
       "      <th></th>\n",
       "      <th></th>\n",
       "      <th></th>\n",
       "      <th></th>\n",
       "      <th></th>\n",
       "    </tr>\n",
       "  </thead>\n",
       "  <tbody>\n",
       "    <tr>\n",
       "      <th>1.0</th>\n",
       "      <td>1</td>\n",
       "      <td>AUTO</td>\n",
       "      <td>2017-05-31</td>\n",
       "      <td>175</td>\n",
       "      <td>820</td>\n",
       "      <td>300.00</td>\n",
       "      <td>30.000</td>\n",
       "      <td>2.39</td>\n",
       "      <td>6.88</td>\n",
       "    </tr>\n",
       "    <tr>\n",
       "      <th>2.0</th>\n",
       "      <td>1</td>\n",
       "      <td>ALO</td>\n",
       "      <td>2017-07-31</td>\n",
       "      <td>164</td>\n",
       "      <td>606</td>\n",
       "      <td>376.00</td>\n",
       "      <td>37.600</td>\n",
       "      <td>9.73</td>\n",
       "      <td>15.56</td>\n",
       "    </tr>\n",
       "    <tr>\n",
       "      <th>3.0</th>\n",
       "      <td>1</td>\n",
       "      <td>AUTO</td>\n",
       "      <td>2017-08-14</td>\n",
       "      <td>187</td>\n",
       "      <td>575</td>\n",
       "      <td>0.92</td>\n",
       "      <td>0.092</td>\n",
       "      <td>2.04</td>\n",
       "      <td>4.01</td>\n",
       "    </tr>\n",
       "    <tr>\n",
       "      <th>4.0</th>\n",
       "      <td>1</td>\n",
       "      <td>AUTO</td>\n",
       "      <td>2017-09-09</td>\n",
       "      <td>200</td>\n",
       "      <td>800</td>\n",
       "      <td>310.00</td>\n",
       "      <td>31.000</td>\n",
       "      <td>2.58</td>\n",
       "      <td>17.83</td>\n",
       "    </tr>\n",
       "    <tr>\n",
       "      <th>5.0</th>\n",
       "      <td>2</td>\n",
       "      <td>AUTO</td>\n",
       "      <td>2017-10-24</td>\n",
       "      <td>334</td>\n",
       "      <td>1664</td>\n",
       "      <td>621.00</td>\n",
       "      <td>62.100</td>\n",
       "      <td>5.02</td>\n",
       "      <td>2.40</td>\n",
       "    </tr>\n",
       "  </tbody>\n",
       "</table>\n",
       "</div>"
      ],
      "text/plain": [
       "          Num_Colecta Tipo_trasplante      Fecha  Tiempo [min]  ACD [ml]  \\\n",
       "Paciente                                                                   \n",
       "1.0                 1            AUTO 2017-05-31           175       820   \n",
       "2.0                 1             ALO 2017-07-31           164       606   \n",
       "3.0                 1            AUTO 2017-08-14           187       575   \n",
       "4.0                 1            AUTO 2017-09-09           200       800   \n",
       "5.0                 2            AUTO 2017-10-24           334      1664   \n",
       "\n",
       "          Volumen [ml]  DMSO [ml]   CMN   CD34  \n",
       "Paciente                                        \n",
       "1.0             300.00     30.000  2.39   6.88  \n",
       "2.0             376.00     37.600  9.73  15.56  \n",
       "3.0               0.92      0.092  2.04   4.01  \n",
       "4.0             310.00     31.000  2.58  17.83  \n",
       "5.0             621.00     62.100  5.02   2.40  "
      ]
     },
     "execution_count": 13,
     "metadata": {},
     "output_type": "execute_result"
    }
   ],
   "source": [
    "df_NewMeth.head()"
   ]
  },
  {
   "cell_type": "markdown",
   "metadata": {},
   "source": [
    "# Numero de colectas - Analisis"
   ]
  },
  {
   "cell_type": "markdown",
   "metadata": {},
   "source": [
    "## Pre Analysis"
   ]
  },
  {
   "cell_type": "markdown",
   "metadata": {},
   "source": [
    "### Correlation study for independence of measurements\n",
    "\n",
    "1) Plot variable vs measurements\n",
    "\n",
    "2) Compute autocorrelation\n",
    "\n",
    "3) Get the mean time decay value"
   ]
  },
  {
   "cell_type": "code",
   "execution_count": 14,
   "metadata": {},
   "outputs": [
    {
     "data": {
      "text/plain": [
       "<matplotlib.legend.Legend at 0x7f9c99939a60>"
      ]
     },
     "execution_count": 14,
     "metadata": {},
     "output_type": "execute_result"
    },
    {
     "data": {
      "image/png": "[encoded data removed]",
      "text/plain": [
       "<Figure size 432x288 with 1 Axes>"
      ]
     },
     "metadata": {},
     "output_type": "display_data"
    }
   ],
   "source": [
    "fig_corr, ax = plt.subplots()\n",
    "x_new = df_NewMeth.index\n",
    "y_new = df_NewMeth['Num_Colecta']\n",
    "\n",
    "x_old = df_OldMeth.index\n",
    "y_old = df_OldMeth['Num_Colecta']\n",
    "\n",
    "ax.set_xlabel('Paciente')\n",
    "ax.set_ylabel('Num Colecta')\n",
    "\n",
    "c = plt.get_cmap('tab20c_r')\n",
    "\n",
    "ax.plot(x_new,y_new,\n",
    "        marker='o',mfc='none',ls='none',\n",
    "#         cmap=c,\n",
    "        label='Metodo Nuevo')\n",
    "# ax.set_label('Metodo Nuevo')\n",
    "ax.plot(x_old,y_old,label='Metodo Viejo',\n",
    "          marker='o',mfc='none',ls='none',\n",
    "          color='Red')\n",
    "ax.set_title('Correlación')\n",
    "ax.legend()\n"
   ]
  },
  {
   "cell_type": "code",
   "execution_count": 15,
   "metadata": {},
   "outputs": [],
   "source": [
    "# -- Compute autocorrelations\n",
    "y_new_aux = (y_new - y_new.mean())/y_new.size\n",
    "Cr_new = correlate(y_new_aux,y_new_aux,mode='full')\n",
    "Cr_new = Cr_new[int(Cr_new.size/2):]\n",
    "\n",
    "y_old_aux = (y_old - y_old.mean())/y_old.size\n",
    "Cr_old = correlate(y_old_aux,y_old_aux,mode='full')\n",
    "Cr_old = Cr_old[int(Cr_old.size/2):]"
   ]
  },
  {
   "cell_type": "code",
   "execution_count": 16,
   "metadata": {},
   "outputs": [],
   "source": [
    "# -- Get tau for each curve\n",
    "from scipy.optimize import curve_fit\n",
    "\n",
    "def f(x,tau,a,b):\n",
    "    return a*np.exp(-x/tau)+b\n",
    "\n",
    "fit_N_popt, _ = curve_fit(f,xdata=x_new,ydata=Cr_new,p0=[1,1,0],maxfev=2000)\n",
    "\n",
    "fit_O_popt, _ = curve_fit(f,xdata=x_old,ydata=Cr_old,p0=[1,1,0],maxfev=2000)"
   ]
  },
  {
   "cell_type": "code",
   "execution_count": 17,
   "metadata": {},
   "outputs": [
    {
     "name": "stdout",
     "output_type": "stream",
     "text": [
      "[ 8.21117197e-02  2.30930534e+03 -1.22363578e-04]\n",
      "[ 3.59751791e-01  1.90132420e-01 -8.40176361e-05]\n"
     ]
    }
   ],
   "source": [
    "print(fit_N_popt)\n",
    "Gr_fit_N = f(x_new,fit_N_popt[0],fit_N_popt[1],fit_N_popt[2])\n",
    "Gr_fit_O = f(x_old,fit_O_popt[0],fit_O_popt[1],fit_O_popt[2])\n",
    "# plt.plot(x_new,y)\n",
    "print(fit_O_popt)"
   ]
  },
  {
   "cell_type": "code",
   "execution_count": 18,
   "metadata": {},
   "outputs": [
    {
     "data": {
      "image/png": "[encoded data removed]",
      "text/plain": [
       "<Figure size 432x288 with 2 Axes>"
      ]
     },
     "metadata": {},
     "output_type": "display_data"
    }
   ],
   "source": [
    "fig_corr_len, ax_corr = plt.subplots(2,1)\n",
    "plt.subplots_adjust(bottom=0.05,top=.95,hspace=0.35)\n",
    "\n",
    "ax_corr[0].plot(x_new,Cr_new,label='New Method',\n",
    "                    color='c',\n",
    "                    dash_capstyle='round',ls=':',\n",
    "                    marker='o',mec='b',mew=2,mfc='none',\n",
    "            )\n",
    "ax_corr[0].plot(x_new,Gr_fit_N,label=r'Ajuste $a e^{-x/\\tau}+b$',\n",
    "                    color='Grey',\n",
    "                    dash_capstyle='round',ls='-'\n",
    "            )\n",
    "\n",
    "ax_corr[1].plot(x_old,Cr_old,label='Old Method',\n",
    "                    color='y',\n",
    "                    dash_capstyle='projecting',ls=':',\n",
    "                    marker='H',mec='g',mew=2,mfc='none'\n",
    "            )\n",
    "ax_corr[1].plot(x_old,Gr_fit_O,label=r'Ajuste $a e^{-x/\\tau}+b$',\n",
    "                    color='Grey',\n",
    "                    dash_capstyle='round',ls='-'\n",
    "            )\n",
    "\n",
    "# ax_corr[0].set_xlabel('Paciente')\n",
    "ax_corr[1].set_xlabel('Paciente')\n",
    "\n",
    "ax_corr[0].set_ylabel('$G_r$')\n",
    "ax_corr[1].set_ylabel('$G_r$')\n",
    "\n",
    "ax_corr[0].legend()\n",
    "ax_corr[1].legend()\n",
    "\n",
    "plt.show()\n",
    "# plt.savefig('acorr_samples.png')"
   ]
  },
  {
   "cell_type": "code",
   "execution_count": 19,
   "metadata": {},
   "outputs": [
    {
     "name": "stdout",
     "output_type": "stream",
     "text": [
      "Para la muestra del Nuevo metodo vemos que tau = 0.011746611154178231\n",
      "Para la muestra del Viejo metodo vemos que tau = 0.011715120432888046\n"
     ]
    }
   ],
   "source": [
    "print(f'Para la muestra del Nuevo metodo vemos que tau = {Gr_fit_N[0]}')\n",
    "print(f'Para la muestra del Viejo metodo vemos que tau = {Gr_fit_O[0]}')"
   ]
  },
  {
   "cell_type": "markdown",
   "metadata": {},
   "source": [
    "**Luego ambas muestras se conforman de medidas independientes.**"
   ]
  },
  {
   "cell_type": "markdown",
   "metadata": {},
   "source": [
    "## Descriptive Statistics"
   ]
  },
  {
   "cell_type": "code",
   "execution_count": 20,
   "metadata": {},
   "outputs": [],
   "source": [
    "# -- Get the actual histogram to compute operations\n",
    "old_colect = df_OldMeth['Num_Colecta'].to_numpy()\n",
    "new_colect = df_NewMeth['Num_Colecta'].to_numpy()"
   ]
  },
  {
   "cell_type": "code",
   "execution_count": 21,
   "metadata": {},
   "outputs": [],
   "source": [
    "# -- Get size of sample, mean, and standard deviation\n",
    "N_old = old_colect.size\n",
    "mean_old = np.round(old_colect.mean(),2)\n",
    "std_old = np.round(old_colect.std(),2)"
   ]
  },
  {
   "cell_type": "code",
   "execution_count": 22,
   "metadata": {},
   "outputs": [
    {
     "name": "stdout",
     "output_type": "stream",
     "text": [
      "For the Old Method \n",
      " sample size: 80 \n",
      " mean: 2.61 \n",
      " standar_dev: 0.97\n"
     ]
    }
   ],
   "source": [
    "# print(N_old,mean_old,std_old)\n",
    "print('For the Old Method \\n',f'sample size: {N_old}','\\n',f'mean: {mean_old}','\\n',f'standar_dev: {std_old}')"
   ]
  },
  {
   "cell_type": "code",
   "execution_count": 23,
   "metadata": {},
   "outputs": [],
   "source": [
    "# -- Get size of sample, mean, and standard deviation\n",
    "N_new = new_colect.size\n",
    "mean_new = np.round(new_colect.mean(),2)\n",
    "std_new = np.round(new_colect.std(),2)"
   ]
  },
  {
   "cell_type": "code",
   "execution_count": 24,
   "metadata": {
    "scrolled": true
   },
   "outputs": [
    {
     "name": "stdout",
     "output_type": "stream",
     "text": [
      "For the New Method \n",
      " sample size: 49 \n",
      " mean: 1.53 \n",
      " standar_dev: 0.76\n"
     ]
    }
   ],
   "source": [
    "# print(N_old,mean_old,std_old)\n",
    "print('For the New Method \\n', f'sample size: {N_new}','\\n',f'mean: {mean_new}','\\n',f'standar_dev: {std_new}')"
   ]
  },
  {
   "cell_type": "code",
   "execution_count": 25,
   "metadata": {},
   "outputs": [],
   "source": [
    "def norm_dist(x,mean,sigma,A=1):\n",
    "    nom= (x - mean)**2\n",
    "    den= 2*sigma**2\n",
    "    return (A/(sigma*2*np.pi))*np.exp(-nom/den)\n"
   ]
  },
  {
   "cell_type": "code",
   "execution_count": 26,
   "metadata": {},
   "outputs": [
    {
     "data": {
      "text/plain": [
       "<matplotlib.legend.Legend at 0x7f9c971dc790>"
      ]
     },
     "execution_count": 26,
     "metadata": {},
     "output_type": "execute_result"
    },
    {
     "data": {
      "image/png": "[encoded data removed]",
      "text/plain": [
       "<Figure size 432x288 with 1 Axes>"
      ]
     },
     "metadata": {},
     "output_type": "display_data"
    }
   ],
   "source": [
    "# TODO: Add norm dist on top of samples.\n",
    "fig, ax = plt.subplots()\n",
    "\n",
    "bins = np.arange(6) - 0.5\n",
    "\n",
    "style_dict_1 = {\n",
    "                'density':True,            #--> normalized histogram\n",
    "                'align':'mid',             #--> place ticks in the middle\n",
    "                'histtype':'stepfilled',   #--> type\n",
    "#                 'color':'DarkBlue',        #--> linecolor\n",
    "                'linestyle':'-',          \n",
    "                'linewidth':2,\n",
    "                'alpha':0.5,               #--> how strong the shading of the filling is\n",
    "                'edgecolor':'DarkBlue',\n",
    "                'facecolor':'LightBlue',   #--> color of the shading\n",
    "                }\n",
    "\n",
    "\n",
    "\n",
    "nlib.mhist(ax,old_colect,bins=bins,label='Metodo viejo',style_dict=style_dict_1)\n",
    "nlib.mhist(ax,new_colect,bins=bins,label='Metodo nuevo',style_dict=style_dict_4)\n",
    "\n",
    "x = np.linspace(start=-1,stop=5,num=100)\n",
    "# sgmN = (std_new/np.sqrt(N_new))**2\n",
    "sgmN = std_new**2/N_new\n",
    "sgmO = std_old**2/N_old\n",
    "\n",
    "\n",
    "# popul_N = norm_dist(x,mean_new,sgmN,A=0.15)\n",
    "# popul_O = norm_dist(x,mean_old,sgmO,A=0.9)\n",
    "# ax.plot(x,popul_N,label='Dist. population New')\n",
    "# ax.plot(x,popul_O,label='Dist. population Old')\n",
    "\n",
    "ax.set_xlabel('Cantidad procedimientos')\n",
    "ax.set_ylabel('Densidad cantidad pacientes')\n",
    "\n",
    "ax.legend()"
   ]
  },
  {
   "cell_type": "markdown",
   "metadata": {},
   "source": [
    "## Hypothesis Testing\n",
    "\n",
    "Dado que el objetivo es evaluar si el método nuevo emplea menos procedimientos con respecto al método viejo,\n",
    "nos centramos en el valor medio de procedimientos ($\\mu^{proc}$).\n",
    "Dado que son muestras tomadas de medidas independientes podemos afirmar que la distribución de la población es aproximadamente gaussiana, luego la pregunta se torna en evaluar si las muestras provienen de la misma población o no.\n",
    "\n",
    "Definimos la _Hipótesis Nula_ :\n",
    "\n",
    "\\begin{equation}\n",
    "H_0 = \\mu_{new}^{proc} \\ge \\mu_{old}^{proc}\n",
    "\\end{equation}\n",
    "\n",
    "Definimos la _Hipótesis Alternativa_ :\n",
    "\\begin{equation}\n",
    "H_A = \\mu_{new}^{proc} < \\mu_{old}^{proc}\n",
    "\\end{equation}"
   ]
  },
  {
   "cell_type": "markdown",
   "metadata": {},
   "source": [
    "La función que utilizaré define la hipótesis nula para un t-test de 2 colas de la siguiente manera:\n",
    "\n",
    "\\begin{equation}\n",
    "H_0 = \\mu_{1}^{proc} - \\mu_{2}^{proc} = 0\n",
    "\\end{equation}\n",
    "\n",
    "\n",
    "Donde los indices $1$ y $2$ corresponden a la etiqueta de la muestra, y por lo tanto a la hora de pasar esta información a la función el _**orden**_ de las muestras _**es importante**_"
   ]
  },
  {
   "cell_type": "markdown",
   "metadata": {},
   "source": [
    "Debido a la naturaleza de la comparación de valores medios de la muestra,\n",
    "corresponde realizar un test de student (t-test) a izquierda.\n",
    "Para ello tomamos el nivel de significancia $\\alpha = 0.01$"
   ]
  },
  {
   "cell_type": "code",
   "execution_count": 27,
   "metadata": {},
   "outputs": [],
   "source": [
    "# --computing T-Test from sample\n",
    "statistics1, p_value1 = stats.ttest_ind(new_colect,old_colect, axis=0, equal_var=True, nan_policy='propagate')"
   ]
  },
  {
   "cell_type": "code",
   "execution_count": 28,
   "metadata": {},
   "outputs": [
    {
     "name": "stdout",
     "output_type": "stream",
     "text": [
      "statistic = -6.62\n",
      "el p_valor_colect es 9.e-10\n"
     ]
    }
   ],
   "source": [
    "print(f'statistic = {np.round(statistics1,2)}')\n",
    "print(f'el p_valor_colect es {np.format_float_scientific(p_value1, precision=0)}')"
   ]
  },
  {
   "cell_type": "markdown",
   "metadata": {},
   "source": [
    "## Conclusion"
   ]
  },
  {
   "cell_type": "markdown",
   "metadata": {},
   "source": [
    "Vemos que el valor del test es negativo, lo cual indica que estamos en la cola izquierda como deseabamos.\n",
    "\n",
    "Como resultado vemos que el $p_{valor} \\le \\alpha$ por $6$ ordenes de magnitud,\n",
    "por lo tanto corresponde rechazar la hipótesis nula y en consecuencia aceptar la hipótesis alternativa.\n",
    "De esta manera hemos demostrado que el método nuevo utiliza menos procedimientos que el método viejo con un nivel de confianza superior al $99 \\%$. "
   ]
  },
  {
   "cell_type": "markdown",
   "metadata": {},
   "source": [
    "Como corolario podemos afirmar que:"
   ]
  },
  {
   "cell_type": "code",
   "execution_count": 29,
   "metadata": {},
   "outputs": [
    {
     "name": "stdout",
     "output_type": "stream",
     "text": [
      "El nuevo metodo emplea 1.53(0.11) procedimientos\n",
      "El viejo metodo emplea 2.61(0.08) procedimientos\n"
     ]
    }
   ],
   "source": [
    "mean_new_err = np.round(std_new/np.sqrt(new_colect.size),2)\n",
    "mean_old_err = np.round(std_new/np.sqrt(old_colect.size),2)\n",
    "print(f'El nuevo metodo emplea {mean_new}({mean_new_err}) procedimientos')\n",
    "print(f'El viejo metodo emplea {mean_old}({mean_old_err}) procedimientos')"
   ]
  },
  {
   "cell_type": "code",
   "execution_count": 30,
   "metadata": {},
   "outputs": [],
   "source": [
    "# TODO:: plots of N-dist for those values"
   ]
  },
  {
   "cell_type": "markdown",
   "metadata": {},
   "source": [
    "# Volumen - Analisis 2"
   ]
  },
  {
   "cell_type": "markdown",
   "metadata": {},
   "source": [
    "## Descriptive Statistics"
   ]
  },
  {
   "cell_type": "code",
   "execution_count": 31,
   "metadata": {},
   "outputs": [],
   "source": [
    "# -- Get the actual histogram to compute operations\n",
    "old_vol = df_OldMeth['Volumen [ml]'].to_numpy()\n",
    "new_vol = df_NewMeth['Volumen [ml]'].to_numpy()"
   ]
  },
  {
   "cell_type": "code",
   "execution_count": 32,
   "metadata": {},
   "outputs": [],
   "source": [
    "# -- Get size of sample, mean, and standard deviation\n",
    "N2_old = old_vol.size\n",
    "mean2_old = np.round(old_vol.mean(),2)\n",
    "std2_old = np.round(old_vol.std(),2)"
   ]
  },
  {
   "cell_type": "code",
   "execution_count": 33,
   "metadata": {},
   "outputs": [
    {
     "name": "stdout",
     "output_type": "stream",
     "text": [
      "For the Old Method \n",
      " sample size: 80 \n",
      " mean: 676.16 \n",
      " standar_dev: 311.19\n"
     ]
    }
   ],
   "source": [
    "# print(N_old,mean_old,std_old)\n",
    "print('For the Old Method \\n',f'sample size: {N2_old}','\\n',f'mean: {mean2_old}','\\n',f'standar_dev: {std2_old}')"
   ]
  },
  {
   "cell_type": "code",
   "execution_count": 34,
   "metadata": {},
   "outputs": [],
   "source": [
    "# -- Get size of sample, mean, and standard deviation\n",
    "N2_new = new_vol.size\n",
    "mean2_new = np.round(new_vol.mean(),2)\n",
    "std2_new = np.round(new_vol.std(),2)"
   ]
  },
  {
   "cell_type": "code",
   "execution_count": 35,
   "metadata": {},
   "outputs": [
    {
     "name": "stdout",
     "output_type": "stream",
     "text": [
      "For the New Method \n",
      " sample size: 49 \n",
      " mean: 452.55 \n",
      " standar_dev: 397.39\n"
     ]
    }
   ],
   "source": [
    "# print(N_old,mean_old,std_old)\n",
    "print('For the New Method \\n', f'sample size: {N2_new}','\\n',f'mean: {mean2_new}','\\n',f'standar_dev: {std2_new}')"
   ]
  },
  {
   "cell_type": "code",
   "execution_count": 36,
   "metadata": {},
   "outputs": [
    {
     "data": {
      "text/plain": [
       "<matplotlib.legend.Legend at 0x7f9c970b2670>"
      ]
     },
     "execution_count": 36,
     "metadata": {},
     "output_type": "execute_result"
    },
    {
     "data": {
      "image/png": "[encoded data removed]",
      "text/plain": [
       "<Figure size 504x360 with 1 Axes>"
      ]
     },
     "metadata": {},
     "output_type": "display_data"
    }
   ],
   "source": [
    "fig, ax = plt.subplots(figsize=(7,5))\n",
    "\n",
    "bins = 28\n",
    "\n",
    "\n",
    "nlib.mhist(ax,old_vol,bins=bins,label='Metodo Viejo',xerr=1)\n",
    "nlib.mhist(ax,new_vol,bins=bins,label='Metodo Nuevo',xerr=1,style_dict=style_dict_3)\n",
    "\n",
    "ax.set_xlabel(f'Volumen [$ml$]')\n",
    "# ax.get_xaxis().set_units('ml')\n",
    "ax.set_ylabel('Densidad cantidad pacientes')\n",
    "\n",
    "ax.legend()"
   ]
  },
  {
   "cell_type": "markdown",
   "metadata": {},
   "source": [
    "## Hypothesis Testing\n",
    "\n",
    "Dado que el objetivo es evaluar si el método nuevo emplea menos volumen con respecto al método viejo,\n",
    "nos centramos en el valor medio de procedimientos ($\\mu^{V}$).\n",
    "Dado que son muestras tomadas de medidas independientes podemos afirmar que la distribución de la población es aproximadamente gaussiana, luego la pregunta se torna en evaluar si las muestras provienen de la misma población o no.\n",
    "\n",
    "Definimos la _Hipótesis Nula_ :\n",
    "\n",
    "\\begin{equation}\n",
    "H_0 = \\mu_{new}^{V} \\ge \\mu_{old}^{V}\n",
    "\\end{equation}\n",
    "\n",
    "Definimos la _Hipótesis Alternativa_ :\n",
    "\\begin{equation}\n",
    "H_A = \\mu_{new}^{V} < \\mu_{old}^{V}\n",
    "\\end{equation}"
   ]
  },
  {
   "cell_type": "markdown",
   "metadata": {},
   "source": [
    "Debido a la naturaleza de la comparación de valores medios de la muestra,\n",
    "corresponde realizar un test de student (t-test) a izquierda.\n",
    "Para ello tomamos el nivel de significancia $\\alpha = 0.05$"
   ]
  },
  {
   "cell_type": "code",
   "execution_count": 37,
   "metadata": {},
   "outputs": [],
   "source": [
    "# --computing T-Test from sample\n",
    "statistics2, p_value2 = stats.ttest_ind(new_vol,old_vol, axis=0, equal_var=True, nan_policy='propagate')"
   ]
  },
  {
   "cell_type": "code",
   "execution_count": 38,
   "metadata": {},
   "outputs": [
    {
     "name": "stdout",
     "output_type": "stream",
     "text": [
      "statistics = -3.53\n",
      "el p_valor_vol es 6.e-04\n"
     ]
    }
   ],
   "source": [
    "print(f'statistics = {np.round(statistics2,2)}')\n",
    "print(f'el p_valor_vol es {np.format_float_scientific(p_value2, precision=0)}')"
   ]
  },
  {
   "cell_type": "code",
   "execution_count": 39,
   "metadata": {},
   "outputs": [],
   "source": [
    "def test_res(alpha,pvalue):\n",
    "    if pvalue <= alpha:\n",
    "        print(f'Reject Null Hypothesis $H_0$, therefore accept Alternative Hypothesis $H_A$')\n",
    "    else:\n",
    "        print(f'Failed to reject Null Hypothesis $H_0$')"
   ]
  },
  {
   "cell_type": "code",
   "execution_count": 40,
   "metadata": {},
   "outputs": [
    {
     "name": "stdout",
     "output_type": "stream",
     "text": [
      "Reject Null Hypothesis $H_0$, therefore accept Alternative Hypothesis $H_A$\n"
     ]
    }
   ],
   "source": [
    "test_res(0.01,p_value2)"
   ]
  },
  {
   "cell_type": "code",
   "execution_count": 41,
   "metadata": {},
   "outputs": [
    {
     "name": "stdout",
     "output_type": "stream",
     "text": [
      "El nuevo metodo requiere 452.55(57.0) volumen\n",
      "El viejo metodo requiere 676.16(44.0) volumen\n"
     ]
    }
   ],
   "source": [
    "mean2_new_err = np.round(std2_new/np.sqrt(new_vol.size),0)\n",
    "mean2_old_err = np.round(std2_new/np.sqrt(old_vol.size),0)\n",
    "print(f'El nuevo metodo requiere {mean2_new}({mean2_new_err}) volumen')\n",
    "print(f'El viejo metodo requiere {mean2_old}({mean2_old_err}) volumen')"
   ]
  },
  {
   "cell_type": "code",
   "execution_count": 42,
   "metadata": {},
   "outputs": [],
   "source": [
    "def propagate_err_percent(X1,X2,ErrX1,ErrX2):\n",
    "    term1 = ErrX1/X2\n",
    "    term2 = X1*ErrX2/(X2**2)\n",
    "    err = np.sqrt(term1**2 + term2**2)\n",
    "    return err"
   ]
  },
  {
   "cell_type": "code",
   "execution_count": 43,
   "metadata": {},
   "outputs": [
    {
     "data": {
      "text/plain": [
       "0.09488861898317275"
      ]
     },
     "execution_count": 43,
     "metadata": {},
     "output_type": "execute_result"
    }
   ],
   "source": [
    "propagate_err_percent(452,676,57,44)"
   ]
  },
  {
   "cell_type": "code",
   "execution_count": 44,
   "metadata": {},
   "outputs": [
    {
     "data": {
      "text/plain": [
       "0.04581594803311213"
      ]
     },
     "execution_count": 44,
     "metadata": {},
     "output_type": "execute_result"
    }
   ],
   "source": [
    "propagate_err_percent(1.53,2.61,.11,.08)"
   ]
  },
  {
   "cell_type": "markdown",
   "metadata": {},
   "source": [
    "## Conclusion"
   ]
  },
  {
   "cell_type": "markdown",
   "metadata": {},
   "source": [
    "Como resultado vemos que el $p_{valor} \\le \\alpha$ por $2$ ordenes de magnitud,\n",
    "por lo tanto corresponde rechazar la hipótesis nula y en consecuencia aceptar la hipótesis alternativa.\n",
    "De esta manera hemos demostrado que el método nuevo utiliza menos procedimientos que el método viejo con un nivel de confianza superior al $95 \\%$, pero a la luz de los resultados podríamos obtener un nivel de confianza superior al $99 \\%$. "
   ]
  },
  {
   "cell_type": "markdown",
   "metadata": {},
   "source": [
    "--- "
   ]
  },
  {
   "cell_type": "markdown",
   "metadata": {},
   "source": [
    "## DataCleaning - TRASPLANTES.xlsx"
   ]
  },
  {
   "cell_type": "code",
   "execution_count": 45,
   "metadata": {},
   "outputs": [],
   "source": [
    "# -- Load data to data frames from TRANSPLANTES\n",
    "with open(transp_file, 'rb') as file:\n",
    "    # --Reading sheet to get oldmethod sample\n",
    "    df2_OldMeth = pd.read_excel(\n",
    "        file,\n",
    "        sheet_name='TRASPLANTE_METODO_VIEJO',\n",
    "        header=0,\n",
    "        index_col='TRASPLANTE'\n",
    "    )\n",
    "    df2_OldMeth.index.name = 'Paciente'\n",
    "\n",
    "    # --Reading sheet to get newmethod sample\n",
    "    df2_NewMeth = pd.read_excel(\n",
    "        file,\n",
    "        sheet_name='TRASPLANTE_METODO_NUEVO',\n",
    "        header=0,\n",
    "        index_col='PACIENTE'\n",
    "    )\n",
    "    df2_NewMeth.index.name = 'Paciente'\n",
    "    \n",
    "def rename_cols(DataFrame):\n",
    "    DataFrame.columns = [\n",
    "        'Patologia','Internacion [dias]','Fiebre [dias]',\n",
    "        'Glob.B > 0.5k [dias]','Glob.B > 1k [dias]','Plaq > 25k [dias]','Plaq > 50k [dias]',\n",
    "        'Nota'\n",
    "    ]\n",
    "    DataFrame = DataFrame[['Patologia',\n",
    "                           'Fiebre [dias]',\n",
    "                           'Glob.B > 0.5k [dias]',\n",
    "                           'Glob.B > 1k [dias]',\n",
    "                           'Plaq > 25k [dias]',\n",
    "                           'Plaq > 50k [dias]',\n",
    "                           'Internacion [dias]',\n",
    "                           'Nota']]\n",
    "    \n",
    "    return\n",
    " "
   ]
  },
  {
   "cell_type": "code",
   "execution_count": 46,
   "metadata": {},
   "outputs": [
    {
     "data": {
      "text/html": [
       "<div>\n",
       "<style scoped>\n",
       "    .dataframe tbody tr th:only-of-type {\n",
       "        vertical-align: middle;\n",
       "    }\n",
       "\n",
       "    .dataframe tbody tr th {\n",
       "        vertical-align: top;\n",
       "    }\n",
       "\n",
       "    .dataframe thead th {\n",
       "        text-align: right;\n",
       "    }\n",
       "</style>\n",
       "<table border=\"1\" class=\"dataframe\">\n",
       "  <thead>\n",
       "    <tr style=\"text-align: right;\">\n",
       "      <th></th>\n",
       "      <th>Patologia</th>\n",
       "      <th>Internacion [dias]</th>\n",
       "      <th>Fiebre [dias]</th>\n",
       "      <th>Glob.B &gt; 0.5k [dias]</th>\n",
       "      <th>Glob.B &gt; 1k [dias]</th>\n",
       "      <th>Plaq &gt; 25k [dias]</th>\n",
       "      <th>Plaq &gt; 50k [dias]</th>\n",
       "    </tr>\n",
       "    <tr>\n",
       "      <th>Paciente</th>\n",
       "      <th></th>\n",
       "      <th></th>\n",
       "      <th></th>\n",
       "      <th></th>\n",
       "      <th></th>\n",
       "      <th></th>\n",
       "      <th></th>\n",
       "    </tr>\n",
       "  </thead>\n",
       "  <tbody>\n",
       "    <tr>\n",
       "      <th>1</th>\n",
       "      <td>TCG</td>\n",
       "      <td>25</td>\n",
       "      <td>2</td>\n",
       "      <td>12</td>\n",
       "      <td>13</td>\n",
       "      <td>17</td>\n",
       "      <td>25</td>\n",
       "    </tr>\n",
       "    <tr>\n",
       "      <th>2</th>\n",
       "      <td>MM</td>\n",
       "      <td>17</td>\n",
       "      <td>10</td>\n",
       "      <td>9</td>\n",
       "      <td>9</td>\n",
       "      <td>10</td>\n",
       "      <td>11</td>\n",
       "    </tr>\n",
       "    <tr>\n",
       "      <th>3</th>\n",
       "      <td>EH</td>\n",
       "      <td>ND</td>\n",
       "      <td>ND</td>\n",
       "      <td>ND</td>\n",
       "      <td>ND</td>\n",
       "      <td>ND</td>\n",
       "      <td>ND</td>\n",
       "    </tr>\n",
       "    <tr>\n",
       "      <th>4</th>\n",
       "      <td>MM</td>\n",
       "      <td>13</td>\n",
       "      <td>0</td>\n",
       "      <td>10</td>\n",
       "      <td>11</td>\n",
       "      <td>12</td>\n",
       "      <td>12</td>\n",
       "    </tr>\n",
       "    <tr>\n",
       "      <th>5</th>\n",
       "      <td>MM</td>\n",
       "      <td>20</td>\n",
       "      <td>0</td>\n",
       "      <td>10</td>\n",
       "      <td>10</td>\n",
       "      <td>10</td>\n",
       "      <td>11</td>\n",
       "    </tr>\n",
       "    <tr>\n",
       "      <th>...</th>\n",
       "      <td>...</td>\n",
       "      <td>...</td>\n",
       "      <td>...</td>\n",
       "      <td>...</td>\n",
       "      <td>...</td>\n",
       "      <td>...</td>\n",
       "      <td>...</td>\n",
       "    </tr>\n",
       "    <tr>\n",
       "      <th>57</th>\n",
       "      <td>EH</td>\n",
       "      <td>NO SE TRASPLANTO</td>\n",
       "      <td>NaN</td>\n",
       "      <td>NaN</td>\n",
       "      <td>NaN</td>\n",
       "      <td>NaN</td>\n",
       "      <td>NaN</td>\n",
       "    </tr>\n",
       "    <tr>\n",
       "      <th>58</th>\n",
       "      <td>EH</td>\n",
       "      <td>24</td>\n",
       "      <td>1</td>\n",
       "      <td>9</td>\n",
       "      <td>10</td>\n",
       "      <td>14</td>\n",
       "      <td>20</td>\n",
       "    </tr>\n",
       "    <tr>\n",
       "      <th>59</th>\n",
       "      <td>EH</td>\n",
       "      <td>23</td>\n",
       "      <td>2</td>\n",
       "      <td>10</td>\n",
       "      <td>10</td>\n",
       "      <td>12</td>\n",
       "      <td>17</td>\n",
       "    </tr>\n",
       "    <tr>\n",
       "      <th>60</th>\n",
       "      <td>TCG</td>\n",
       "      <td>24</td>\n",
       "      <td>1</td>\n",
       "      <td>10</td>\n",
       "      <td>12</td>\n",
       "      <td>12</td>\n",
       "      <td>16</td>\n",
       "    </tr>\n",
       "    <tr>\n",
       "      <th>61</th>\n",
       "      <td>LNH</td>\n",
       "      <td>37</td>\n",
       "      <td>4</td>\n",
       "      <td>9</td>\n",
       "      <td>10</td>\n",
       "      <td>17</td>\n",
       "      <td>17</td>\n",
       "    </tr>\n",
       "  </tbody>\n",
       "</table>\n",
       "<p>61 rows × 7 columns</p>\n",
       "</div>"
      ],
      "text/plain": [
       "         Patologia Internacion [dias] Fiebre [dias] Glob.B > 0.5k [dias]  \\\n",
       "Paciente                                                                   \n",
       "1              TCG                 25             2                   12   \n",
       "2               MM                 17            10                    9   \n",
       "3               EH                 ND            ND                   ND   \n",
       "4               MM                 13             0                   10   \n",
       "5               MM                 20             0                   10   \n",
       "...            ...                ...           ...                  ...   \n",
       "57              EH   NO SE TRASPLANTO           NaN                  NaN   \n",
       "58              EH                 24             1                    9   \n",
       "59              EH                 23             2                   10   \n",
       "60             TCG                 24             1                   10   \n",
       "61             LNH                 37             4                    9   \n",
       "\n",
       "         Glob.B > 1k [dias] Plaq > 25k [dias] Plaq > 50k [dias]  \n",
       "Paciente                                                         \n",
       "1                        13                17                25  \n",
       "2                         9                10                11  \n",
       "3                        ND                ND                ND  \n",
       "4                        11                12                12  \n",
       "5                        10                10                11  \n",
       "...                     ...               ...               ...  \n",
       "57                      NaN               NaN               NaN  \n",
       "58                       10                14                20  \n",
       "59                       10                12                17  \n",
       "60                       12                12                16  \n",
       "61                       10                17                17  \n",
       "\n",
       "[61 rows x 7 columns]"
      ]
     },
     "execution_count": 46,
     "metadata": {},
     "output_type": "execute_result"
    }
   ],
   "source": [
    "# --Renaming columns\n",
    "rename_cols(df2_OldMeth)\n",
    "rename_cols(df2_NewMeth)\n",
    "\n",
    "df2_NewMeth.drop(columns='Nota')\n",
    "df2_OldMeth.drop(columns='Nota')"
   ]
  },
  {
   "cell_type": "markdown",
   "metadata": {},
   "source": [
    "Fixing values"
   ]
  },
  {
   "cell_type": "code",
   "execution_count": 47,
   "metadata": {},
   "outputs": [],
   "source": [
    "df2_NewMeth.loc[1,'Patologia'] = 'LMA'"
   ]
  },
  {
   "cell_type": "code",
   "execution_count": 48,
   "metadata": {},
   "outputs": [],
   "source": [
    "def serch_unique(DataFrame):\n",
    "    unique_val = {col:DataFrame[col].unique() for col in DataFrame.columns}\n",
    "    return unique_val"
   ]
  },
  {
   "cell_type": "code",
   "execution_count": 49,
   "metadata": {},
   "outputs": [],
   "source": [
    "# unique_val"
   ]
  },
  {
   "cell_type": "code",
   "execution_count": 50,
   "metadata": {},
   "outputs": [],
   "source": [
    "# --Search for unique values\n",
    "NM_uniquevalues = serch_unique(df2_NewMeth)\n",
    "OM_uniquevalues = serch_unique(df2_OldMeth)"
   ]
  },
  {
   "cell_type": "code",
   "execution_count": 51,
   "metadata": {},
   "outputs": [
    {
     "name": "stdout",
     "output_type": "stream",
     "text": [
      "----Metodo Viejo NaNs----\n",
      "{'Patologia': array(['TCG', 'MM', 'EH', 'LNH', 'LMA', 'LMC', 'LNH DEL MANTO', 'LLA'],\n",
      "      dtype=object), 'Internacion [dias]': array([25, 17, 'ND', 13, 20, 29, 34, 22, 18, 72, 23, 32, 14, 21, 16,\n",
      "       'NO SE TRASPLANTO', 38, 37, 10, 30, 24, 15, 31, 50, 156, 48, 19,\n",
      "       35, ' NO SE TRASPLANTO', 11, 42, 27], dtype=object), 'Fiebre [dias]': array([2, 10, 'ND', 0, 3, 1, 7, 5, nan, 18, 4, 13], dtype=object), 'Glob.B > 0.5k [dias]': array([12, 9, 'ND', 10, 13, 8, 6, 11, 14, 16, 7, nan, 15, 19, 'NO', 17],\n",
      "      dtype=object), 'Glob.B > 1k [dias]': array([13, 9, 'ND', 11, 10, 14, 6, 12, 22, nan, 17, 15, 16, 'NO', 19],\n",
      "      dtype=object), 'Plaq > 25k [dias]': array([17, 10, 'ND', 12, 13, 14, 9, 5, 15, 21, 28, 20, 11, nan, 19, 16,\n",
      "       27, 64, 8, 34, 23, 'NO', 25], dtype=object), 'Plaq > 50k [dias]': array([25, 11, 'ND', 12, 14, 39, 5, 32, 21, 65, 10, 19, 30, 15, nan, 18,\n",
      "       13, 35, 24, 16, 33, 99, 48, 28, 649, 'NO', 9, 20, 17], dtype=object), 'Nota': array([nan, 'OBITO INTRATCPH'], dtype=object)}\n",
      "\n",
      "\n",
      "----Metodo Nuevo NaNs----\n",
      "{'Patologia': array(['LMA', 'LNHT', 'LNH', 'MM', 'LLA', 'LMC', 'LNH DEL MANTO', 'EH',\n",
      "       'TCG', 'MM ', 'SMD'], dtype=object), 'Internacion [dias]': array([46, 20, 26, 34, 23, 30, 27, 24, 16, 17, 19, 4, 29, 13, 11, 22, 21,\n",
      "       'NO SE TRASPLANTO', 39, 18, 52, 25, 15, 31, 37, 36], dtype=object), 'Fiebre [dias]': array([ 2.,  0.,  3.,  5.,  1.,  7.,  8., nan,  4.]), 'Glob.B > 0.5k [dias]': array([19, 9, 11, 10, 12, 13, 16, 'NO', 8, nan, 15], dtype=object), 'Glob.B > 1k [dias]': array([22, 10, 13, 12, 14, 11, 16, 'NO', 9, nan, 17], dtype=object), 'Plaq > 25k [dias]': array([26, 10, 17, 24, 11, 13, 14, 23, 16, 18, 'NO', 12, 15, nan, 33, 9],\n",
      "      dtype=object), 'Plaq > 50k [dias]': array([27, 13, 18, 46, 14, 24, 21, 42, 16, 26, 25, 'NO', 40, 15, 19, nan,\n",
      "       20, 34], dtype=object), 'Nota': array([nan, 'OBITO INTRATCPH'], dtype=object)}\n"
     ]
    }
   ],
   "source": [
    "print(f'----Metodo Viejo NaNs----')\n",
    "print(OM_uniquevalues)\n",
    "print('\\n')\n",
    "print(f'----Metodo Nuevo NaNs----')\n",
    "print(NM_uniquevalues)"
   ]
  },
  {
   "cell_type": "code",
   "execution_count": 52,
   "metadata": {},
   "outputs": [],
   "source": [
    "def fill_with_nan(DataFrame,to_replace,from_col,to_col=None):\n",
    "    if to_col == None: to_col = len(DataFrame.columns)\n",
    "    for col in DataFrame.columns[from_col:to_col]:\n",
    "        DataFrame.loc[:,col].replace(\n",
    "            to_replace=to_replace,\n",
    "            value=np.NaN,\n",
    "            inplace=True\n",
    "        )"
   ]
  },
  {
   "cell_type": "code",
   "execution_count": 53,
   "metadata": {},
   "outputs": [],
   "source": [
    "# -- Replace all non standar NaN values for np.NaN\n",
    "fill_with_nan(df2_OldMeth,'ND',1)\n",
    "fill_with_nan(df2_NewMeth,'ND',1)\n",
    "\n",
    "fill_with_nan(df2_OldMeth,'NO',1)\n",
    "fill_with_nan(df2_NewMeth,'NO',1)\n",
    "\n",
    "fill_with_nan(df2_OldMeth,r'\\s+NO SE TRASPLANTO',1)\n",
    "fill_with_nan(df2_NewMeth,r'\\s+NO\\s+SE\\s+TRASPLANTO\\s+',0)"
   ]
  },
  {
   "cell_type": "code",
   "execution_count": 54,
   "metadata": {},
   "outputs": [],
   "source": [
    "# Delete useless row\n",
    "filt = df2_NewMeth.loc[:,'Internacion [dias]'] == 'NO SE TRASPLANTO'\n",
    "del_idx= df2_NewMeth[filt].index\n",
    "df2_NewMeth.drop(index=del_idx,inplace=True)\n",
    "\n",
    "filt = df2_OldMeth.loc[:,'Internacion [dias]'] == 'NO SE TRASPLANTO'\n",
    "del_idx= df2_OldMeth[filt].index\n",
    "df2_OldMeth.drop(index=del_idx,inplace=True)\n",
    "\n",
    "\n",
    "df2_OldMeth.drop(index=48,inplace=True)"
   ]
  },
  {
   "cell_type": "code",
   "execution_count": 55,
   "metadata": {},
   "outputs": [
    {
     "name": "stdout",
     "output_type": "stream",
     "text": [
      "Patologia                string\n",
      "Internacion [dias]        int64\n",
      "Fiebre [dias]           float64\n",
      "Glob.B > 0.5k [dias]    float64\n",
      "Glob.B > 1k [dias]      float64\n",
      "Plaq > 25k [dias]       float64\n",
      "Plaq > 50k [dias]       float64\n",
      "Nota                     string\n",
      "dtype: object\n",
      "\n",
      "Patologia                string\n",
      "Internacion [dias]      float64\n",
      "Fiebre [dias]           float64\n",
      "Glob.B > 0.5k [dias]    float64\n",
      "Glob.B > 1k [dias]      float64\n",
      "Plaq > 25k [dias]       float64\n",
      "Plaq > 50k [dias]       float64\n",
      "Nota                     string\n",
      "dtype: object\n"
     ]
    }
   ],
   "source": [
    "# Fix the types of each column\n",
    "\n",
    "df2_NewMeth = df2_NewMeth.convert_dtypes(convert_integer=False,convert_boolean=False)\n",
    "df2_OldMeth = df2_OldMeth.convert_dtypes(convert_integer=False,convert_boolean=False)\n",
    "\n",
    "print(df2_NewMeth.dtypes)\n",
    "print()\n",
    "print(df2_OldMeth.dtypes)"
   ]
  },
  {
   "cell_type": "code",
   "execution_count": 56,
   "metadata": {},
   "outputs": [],
   "source": [
    "NM_uniquevalues = serch_unique(df2_NewMeth)\n",
    "OM_uniquevalues = serch_unique(df2_OldMeth)"
   ]
  },
  {
   "cell_type": "code",
   "execution_count": 57,
   "metadata": {},
   "outputs": [
    {
     "name": "stdout",
     "output_type": "stream",
     "text": [
      "----Metodo Viejo NaNs----\n",
      "{'Patologia': <StringArray>\n",
      "['TCG', 'MM', 'EH', 'LNH', 'LMA', 'LMC', 'LNH DEL MANTO', 'LLA']\n",
      "Length: 8, dtype: string, 'Internacion [dias]': array([ 25.,  17.,  nan,  13.,  20.,  29.,  34.,  22.,  18.,  72.,  23.,\n",
      "        32.,  14.,  21.,  16.,  38.,  37.,  10.,  30.,  24.,  15.,  31.,\n",
      "        50., 156.,  48.,  19.,  35.,  11.,  42.,  27.]), 'Fiebre [dias]': array([ 2., 10., nan,  0.,  3.,  1.,  7.,  5., 18.,  4., 13.]), 'Glob.B > 0.5k [dias]': array([12.,  9., nan, 10., 13.,  8.,  6., 11., 14., 16.,  7., 15., 19.,\n",
      "       17.]), 'Glob.B > 1k [dias]': array([13.,  9., nan, 11., 10., 14.,  6., 12., 22., 17., 15., 16., 19.]), 'Plaq > 25k [dias]': array([17., 10., nan, 12., 13., 14.,  9.,  5., 15., 21., 28., 20., 11.,\n",
      "       19., 16., 27., 64.,  8., 34., 23., 25.]), 'Plaq > 50k [dias]': array([ 25.,  11.,  nan,  12.,  14.,  39.,   5.,  32.,  21.,  65.,  10.,\n",
      "        19.,  30.,  15.,  18.,  13.,  35.,  24.,  16.,  33.,  99.,  48.,\n",
      "        28., 649.,   9.,  20.,  17.]), 'Nota': <StringArray>\n",
      "[<NA>, 'OBITO INTRATCPH']\n",
      "Length: 2, dtype: string}\n",
      "\n",
      "\n",
      "----Metodo Nuevo NaNs----\n",
      "{'Patologia': <StringArray>\n",
      "[          'LMA',          'LNHT',           'LNH',            'MM',\n",
      "           'LLA',           'LMC', 'LNH DEL MANTO',            'EH',\n",
      "           'TCG',           'MM ',           'SMD']\n",
      "Length: 11, dtype: string, 'Internacion [dias]': array([46, 20, 26, 34, 23, 30, 27, 24, 16, 17, 19,  4, 29, 13, 11, 22, 21,\n",
      "       39, 18, 52, 25, 15, 31, 37, 36]), 'Fiebre [dias]': array([2., 0., 3., 5., 1., 7., 8., 4.]), 'Glob.B > 0.5k [dias]': array([19.,  9., 11., 10., 12., 13., 16., nan,  8., 15.]), 'Glob.B > 1k [dias]': array([22., 10., 13., 12., 14., 11., 16., nan,  9., 17.]), 'Plaq > 25k [dias]': array([26., 10., 17., 24., 11., 13., 14., 23., 16., 18., nan, 12., 15.,\n",
      "       33.,  9.]), 'Plaq > 50k [dias]': array([27., 13., 18., 46., 14., 24., 21., 42., 16., 26., 25., nan, 40.,\n",
      "       15., 19., 20., 34.]), 'Nota': <StringArray>\n",
      "[<NA>, 'OBITO INTRATCPH']\n",
      "Length: 2, dtype: string}\n"
     ]
    }
   ],
   "source": [
    "print(f'----Metodo Viejo NaNs----')\n",
    "print(OM_uniquevalues)\n",
    "print('\\n')\n",
    "print(f'----Metodo Nuevo NaNs----')\n",
    "print(NM_uniquevalues)\n",
    "# TODO: fixed repeted unique values\n",
    "df2_NewMeth['Patologia'].replace(to_replace='MM ',value='MM',inplace=True)\n"
   ]
  },
  {
   "cell_type": "code",
   "execution_count": 58,
   "metadata": {},
   "outputs": [
    {
     "name": "stdout",
     "output_type": "stream",
     "text": [
      "----Metodo Viejo NaNs----\n",
      "Patologia                0\n",
      "Internacion [dias]       1\n",
      "Fiebre [dias]            1\n",
      "Glob.B > 0.5k [dias]     2\n",
      "Glob.B > 1k [dias]       2\n",
      "Plaq > 25k [dias]        2\n",
      "Plaq > 50k [dias]        2\n",
      "Nota                    57\n",
      "dtype: int64\n",
      "\n",
      "\n",
      "----Metodo Nuevo NaNs----\n",
      "Patologia                0\n",
      "Internacion [dias]       0\n",
      "Fiebre [dias]            0\n",
      "Glob.B > 0.5k [dias]     2\n",
      "Glob.B > 1k [dias]       2\n",
      "Plaq > 25k [dias]        3\n",
      "Plaq > 50k [dias]        3\n",
      "Nota                    39\n",
      "dtype: int64\n"
     ]
    },
    {
     "data": {
      "text/html": [
       "<div>\n",
       "<style scoped>\n",
       "    .dataframe tbody tr th:only-of-type {\n",
       "        vertical-align: middle;\n",
       "    }\n",
       "\n",
       "    .dataframe tbody tr th {\n",
       "        vertical-align: top;\n",
       "    }\n",
       "\n",
       "    .dataframe thead th {\n",
       "        text-align: right;\n",
       "    }\n",
       "</style>\n",
       "<table border=\"1\" class=\"dataframe\">\n",
       "  <thead>\n",
       "    <tr style=\"text-align: right;\">\n",
       "      <th></th>\n",
       "      <th>Patologia</th>\n",
       "      <th>Internacion [dias]</th>\n",
       "      <th>Fiebre [dias]</th>\n",
       "      <th>Glob.B &gt; 0.5k [dias]</th>\n",
       "      <th>Glob.B &gt; 1k [dias]</th>\n",
       "      <th>Plaq &gt; 25k [dias]</th>\n",
       "      <th>Plaq &gt; 50k [dias]</th>\n",
       "      <th>Nota</th>\n",
       "    </tr>\n",
       "    <tr>\n",
       "      <th>Paciente</th>\n",
       "      <th></th>\n",
       "      <th></th>\n",
       "      <th></th>\n",
       "      <th></th>\n",
       "      <th></th>\n",
       "      <th></th>\n",
       "      <th></th>\n",
       "      <th></th>\n",
       "    </tr>\n",
       "  </thead>\n",
       "  <tbody>\n",
       "    <tr>\n",
       "      <th>3</th>\n",
       "      <td>EH</td>\n",
       "      <td>NaN</td>\n",
       "      <td>NaN</td>\n",
       "      <td>NaN</td>\n",
       "      <td>NaN</td>\n",
       "      <td>NaN</td>\n",
       "      <td>NaN</td>\n",
       "      <td>&lt;NA&gt;</td>\n",
       "    </tr>\n",
       "  </tbody>\n",
       "</table>\n",
       "</div>"
      ],
      "text/plain": [
       "         Patologia  Internacion [dias]  Fiebre [dias]  Glob.B > 0.5k [dias]  \\\n",
       "Paciente                                                                      \n",
       "3               EH                 NaN            NaN                   NaN   \n",
       "\n",
       "          Glob.B > 1k [dias]  Plaq > 25k [dias]  Plaq > 50k [dias]  Nota  \n",
       "Paciente                                                                  \n",
       "3                        NaN                NaN                NaN  <NA>  "
      ]
     },
     "execution_count": 58,
     "metadata": {},
     "output_type": "execute_result"
    }
   ],
   "source": [
    "# -- count NaN by cols\n",
    "NM_NaNs=df2_NewMeth.isna().sum()\n",
    "OM_NaNs=df2_OldMeth.isna().sum()\n",
    "\n",
    "print(f'----Metodo Viejo NaNs----')\n",
    "print(OM_NaNs)\n",
    "print('\\n')\n",
    "print(f'----Metodo Nuevo NaNs----')\n",
    "print(NM_NaNs)\n",
    "\n",
    "filt = df2_OldMeth.loc[:,'Internacion [dias]'].isna()\n",
    "df2_OldMeth[filt]"
   ]
  },
  {
   "cell_type": "markdown",
   "metadata": {},
   "source": [
    "# Tiempos de recuperacion - Analisis 3"
   ]
  },
  {
   "cell_type": "code",
   "execution_count": 59,
   "metadata": {},
   "outputs": [
    {
     "data": {
      "text/html": [
       "<div>\n",
       "<style scoped>\n",
       "    .dataframe tbody tr th:only-of-type {\n",
       "        vertical-align: middle;\n",
       "    }\n",
       "\n",
       "    .dataframe tbody tr th {\n",
       "        vertical-align: top;\n",
       "    }\n",
       "\n",
       "    .dataframe thead th {\n",
       "        text-align: right;\n",
       "    }\n",
       "</style>\n",
       "<table border=\"1\" class=\"dataframe\">\n",
       "  <thead>\n",
       "    <tr style=\"text-align: right;\">\n",
       "      <th></th>\n",
       "      <th>Patologia</th>\n",
       "      <th>Internacion [dias]</th>\n",
       "      <th>Fiebre [dias]</th>\n",
       "      <th>Glob.B &gt; 0.5k [dias]</th>\n",
       "      <th>Glob.B &gt; 1k [dias]</th>\n",
       "      <th>Plaq &gt; 25k [dias]</th>\n",
       "      <th>Plaq &gt; 50k [dias]</th>\n",
       "      <th>Nota</th>\n",
       "    </tr>\n",
       "    <tr>\n",
       "      <th>Paciente</th>\n",
       "      <th></th>\n",
       "      <th></th>\n",
       "      <th></th>\n",
       "      <th></th>\n",
       "      <th></th>\n",
       "      <th></th>\n",
       "      <th></th>\n",
       "      <th></th>\n",
       "    </tr>\n",
       "  </thead>\n",
       "  <tbody>\n",
       "    <tr>\n",
       "      <th>39</th>\n",
       "      <td>LNH DEL MANTO</td>\n",
       "      <td>31</td>\n",
       "      <td>1.0</td>\n",
       "      <td>11.0</td>\n",
       "      <td>11.0</td>\n",
       "      <td>16.0</td>\n",
       "      <td>21.0</td>\n",
       "      <td>&lt;NA&gt;</td>\n",
       "    </tr>\n",
       "    <tr>\n",
       "      <th>40</th>\n",
       "      <td>LNH DEL MANTO</td>\n",
       "      <td>19</td>\n",
       "      <td>1.0</td>\n",
       "      <td>9.0</td>\n",
       "      <td>10.0</td>\n",
       "      <td>13.0</td>\n",
       "      <td>16.0</td>\n",
       "      <td>&lt;NA&gt;</td>\n",
       "    </tr>\n",
       "    <tr>\n",
       "      <th>41</th>\n",
       "      <td>LLA</td>\n",
       "      <td>26</td>\n",
       "      <td>1.0</td>\n",
       "      <td>11.0</td>\n",
       "      <td>17.0</td>\n",
       "      <td>9.0</td>\n",
       "      <td>15.0</td>\n",
       "      <td>&lt;NA&gt;</td>\n",
       "    </tr>\n",
       "    <tr>\n",
       "      <th>42</th>\n",
       "      <td>LMA</td>\n",
       "      <td>37</td>\n",
       "      <td>5.0</td>\n",
       "      <td>15.0</td>\n",
       "      <td>16.0</td>\n",
       "      <td>13.0</td>\n",
       "      <td>21.0</td>\n",
       "      <td>&lt;NA&gt;</td>\n",
       "    </tr>\n",
       "    <tr>\n",
       "      <th>43</th>\n",
       "      <td>LNH DEL MANTO</td>\n",
       "      <td>36</td>\n",
       "      <td>2.0</td>\n",
       "      <td>9.0</td>\n",
       "      <td>9.0</td>\n",
       "      <td>12.0</td>\n",
       "      <td>14.0</td>\n",
       "      <td>&lt;NA&gt;</td>\n",
       "    </tr>\n",
       "  </tbody>\n",
       "</table>\n",
       "</div>"
      ],
      "text/plain": [
       "              Patologia  Internacion [dias]  Fiebre [dias]  \\\n",
       "Paciente                                                     \n",
       "39        LNH DEL MANTO                  31            1.0   \n",
       "40        LNH DEL MANTO                  19            1.0   \n",
       "41                  LLA                  26            1.0   \n",
       "42                  LMA                  37            5.0   \n",
       "43        LNH DEL MANTO                  36            2.0   \n",
       "\n",
       "          Glob.B > 0.5k [dias]  Glob.B > 1k [dias]  Plaq > 25k [dias]  \\\n",
       "Paciente                                                                \n",
       "39                        11.0                11.0               16.0   \n",
       "40                         9.0                10.0               13.0   \n",
       "41                        11.0                17.0                9.0   \n",
       "42                        15.0                16.0               13.0   \n",
       "43                         9.0                 9.0               12.0   \n",
       "\n",
       "          Plaq > 50k [dias]  Nota  \n",
       "Paciente                           \n",
       "39                     21.0  <NA>  \n",
       "40                     16.0  <NA>  \n",
       "41                     15.0  <NA>  \n",
       "42                     21.0  <NA>  \n",
       "43                     14.0  <NA>  "
      ]
     },
     "execution_count": 59,
     "metadata": {},
     "output_type": "execute_result"
    }
   ],
   "source": [
    "df2_NewMeth.tail()"
   ]
  },
  {
   "cell_type": "code",
   "execution_count": 60,
   "metadata": {},
   "outputs": [
    {
     "data": {
      "text/html": [
       "<div>\n",
       "<style scoped>\n",
       "    .dataframe tbody tr th:only-of-type {\n",
       "        vertical-align: middle;\n",
       "    }\n",
       "\n",
       "    .dataframe tbody tr th {\n",
       "        vertical-align: top;\n",
       "    }\n",
       "\n",
       "    .dataframe thead th {\n",
       "        text-align: right;\n",
       "    }\n",
       "</style>\n",
       "<table border=\"1\" class=\"dataframe\">\n",
       "  <thead>\n",
       "    <tr style=\"text-align: right;\">\n",
       "      <th></th>\n",
       "      <th>Patologia</th>\n",
       "      <th>Internacion [dias]</th>\n",
       "      <th>Fiebre [dias]</th>\n",
       "      <th>Glob.B &gt; 0.5k [dias]</th>\n",
       "      <th>Glob.B &gt; 1k [dias]</th>\n",
       "      <th>Plaq &gt; 25k [dias]</th>\n",
       "      <th>Plaq &gt; 50k [dias]</th>\n",
       "      <th>Nota</th>\n",
       "    </tr>\n",
       "    <tr>\n",
       "      <th>Paciente</th>\n",
       "      <th></th>\n",
       "      <th></th>\n",
       "      <th></th>\n",
       "      <th></th>\n",
       "      <th></th>\n",
       "      <th></th>\n",
       "      <th></th>\n",
       "      <th></th>\n",
       "    </tr>\n",
       "  </thead>\n",
       "  <tbody>\n",
       "    <tr>\n",
       "      <th>39</th>\n",
       "      <td>LMA</td>\n",
       "      <td>31.0</td>\n",
       "      <td>0.0</td>\n",
       "      <td>14.0</td>\n",
       "      <td>15.0</td>\n",
       "      <td>64.0</td>\n",
       "      <td>99.0</td>\n",
       "      <td>&lt;NA&gt;</td>\n",
       "    </tr>\n",
       "    <tr>\n",
       "      <th>42</th>\n",
       "      <td>LNH</td>\n",
       "      <td>48.0</td>\n",
       "      <td>10.0</td>\n",
       "      <td>11.0</td>\n",
       "      <td>11.0</td>\n",
       "      <td>34.0</td>\n",
       "      <td>48.0</td>\n",
       "      <td>&lt;NA&gt;</td>\n",
       "    </tr>\n",
       "  </tbody>\n",
       "</table>\n",
       "</div>"
      ],
      "text/plain": [
       "         Patologia  Internacion [dias]  Fiebre [dias]  Glob.B > 0.5k [dias]  \\\n",
       "Paciente                                                                      \n",
       "39             LMA                31.0            0.0                  14.0   \n",
       "42             LNH                48.0           10.0                  11.0   \n",
       "\n",
       "          Glob.B > 1k [dias]  Plaq > 25k [dias]  Plaq > 50k [dias]  Nota  \n",
       "Paciente                                                                  \n",
       "39                      15.0               64.0               99.0  <NA>  \n",
       "42                      11.0               34.0               48.0  <NA>  "
      ]
     },
     "execution_count": 60,
     "metadata": {},
     "output_type": "execute_result"
    }
   ],
   "source": [
    "filt =df2_OldMeth.loc[:,'Plaq > 25k [dias]']>30\n",
    "\n",
    "df2_OldMeth[filt]"
   ]
  },
  {
   "cell_type": "markdown",
   "metadata": {},
   "source": [
    "## Time_Avg by patient"
   ]
  },
  {
   "cell_type": "code",
   "execution_count": 61,
   "metadata": {},
   "outputs": [],
   "source": [
    "# --function for wedge format\n",
    "def func(pct, allvals):\n",
    "    # -- pct:: the percentage\n",
    "    absolute = int(pct/100.*np.sum(allvals))\n",
    "    return \"{:d}($\\pm$1)\\n{:.1f}%\".format(absolute,pct)"
   ]
  },
  {
   "cell_type": "code",
   "execution_count": 62,
   "metadata": {
    "scrolled": true
   },
   "outputs": [
    {
     "name": "stdout",
     "output_type": "stream",
     "text": [
      "[Text(1.1108070568462283, -0.4797996274077549, 'EH'), Text(1.171702646597778, 0.3020147479110298, 'LLA'), Text(0.5377541828366282, 1.0839374699869502, 'LMA'), Text(-0.497657475923267, 1.1029220446875125, 'LMC'), Text(-1.1108071017683068, 0.47979952340649024, 'LNH'), Text(-1.1541308078406247, -0.3634309816088156, 'LNH DEL MANTO'), Text(-0.7149477682945091, -0.9761914200661167, 'LNHT'), Text(-0.14164731205302725, -1.2016805062029394, 'MM'), Text(0.42383421145057704, -1.133342208339594, 'SMD'), Text(0.8046240715706102, -0.9037035484323019, 'TCG')]\n"
     ]
    },
    {
     "data": {
      "image/png": "[encoded data removed]",
      "text/plain": [
       "<Figure size 504x360 with 2 Axes>"
      ]
     },
     "metadata": {},
     "output_type": "display_data"
    }
   ],
   "source": [
    "cols = ['Patologia','Internacion [dias]']\n",
    "N_pato = df2_NewMeth.loc[:,cols].groupby(by='Patologia').mean()\n",
    "N_pato = np.round(N_pato)\n",
    "\n",
    "O_pato = df2_OldMeth.loc[:,cols].groupby(by='Patologia').mean()\n",
    "O_pato = np.round(O_pato)\n",
    "\n",
    "\n",
    "# TODO emprolijar y agregar std\n",
    "# plt.pie(x=N_pato['Internacion [dias]'],labels=N_pato.index)\n",
    "fig_pie, ax_pie = plt.subplots(1,2,figsize=(7,5))\n",
    "\n",
    "N_data = N_pato['Internacion [dias]']\n",
    "O_data = O_pato['Internacion [dias]']\n",
    "\n",
    "N_labels = N_pato.index\n",
    "O_labels = O_pato.index\n",
    "\n",
    "N_labels = N_labels.tolist()\n",
    "\n",
    "\n",
    "pie_style = {'shadow':True,\n",
    "             'autopct':lambda pct: func(pct, N_data),\n",
    "             'radius':1.1,\n",
    "             'wedgeprops':{'width':0.8,'edgecolor':'w'},\n",
    "             'textprops':{'size':11},\n",
    "             'rotatelabels':False,\n",
    "             'startangle':-40,\n",
    "            }\n",
    "\n",
    "\n",
    "_,text,_ = nlib.mpie(ax=ax_pie[0],\n",
    "          data=N_data,\n",
    "          labels=N_labels,\n",
    "          title='Metodo Nuevo',\n",
    "          style_dict=pie_style\n",
    "    )\n",
    "\n",
    "\n",
    "_,textO,_ = nlib.mpie(ax=ax_pie[1],\n",
    "          data=O_data,\n",
    "          labels=O_labels,\n",
    "          title='Metodo Viejo',\n",
    "          style_dict=pie_style\n",
    "    )\n",
    "\n",
    "\n",
    "print(text)\n",
    "\n",
    "\n",
    "\n",
    "ax_pie[0].set_aspect('equal')\n",
    "ax_pie[1].set_aspect('equal')\n",
    "# ax_pie.legend(loc='center right')\n",
    "# print(N_pato)\n",
    "\n",
    "# fig, ax = plt.subplots(figsize=(6, 3), subplot_kw=dict(aspect=\"equal\"))\n",
    "# wedges, texts = ax.pie(N_data, wedgeprops=dict(width=0.5), startangle=-40)\n",
    "\n",
    "# # --set format for labels\n",
    "# bbox_props = dict(boxstyle=\"square,pad=0.3\", fc=\"w\", ec=\"k\", lw=0.72)\n",
    "# kw = dict(arrowprops=dict(arrowstyle='-'),\n",
    "#           bbox=bbox_props, zorder=0, va=\"center\")\n",
    "\n",
    "# for i, p in enumerate(wedges):\n",
    "#     ang = (p.theta2 - p.theta1)/2. + p.theta1\n",
    "#     y = np.sin(np.deg2rad(ang))\n",
    "#     x = np.cos(np.deg2rad(ang))\n",
    "#     horizontalalignment = {-1: \"right\", 1: \"left\"}[int(np.sign(x))]\n",
    "#     connectionstyle = \"angle,angleA=0,angleB={}\".format(ang)\n",
    "#     kw[\"arrowprops\"].update({\"connectionstyle\": connectionstyle})\n",
    "#     ax.annotate(N_labels[i], xy=(x, y), xytext=(1.35*np.sign(x), 1.4*y),\n",
    "#                 horizontalalignment=horizontalalignment, **kw)\n",
    "    \n",
    "# plt.setp(autotexts)\n",
    "\n",
    "plt.subplots_adjust(left=0.0015,right=0.995,wspace=0.4)\n",
    "\n",
    "plt.show()"
   ]
  },
  {
   "cell_type": "markdown",
   "metadata": {},
   "source": [
    "## Patient evolution"
   ]
  },
  {
   "cell_type": "code",
   "execution_count": 63,
   "metadata": {},
   "outputs": [
    {
     "data": {
      "text/plain": [
       "Text(0.5, 1.0, 'Internacion')"
      ]
     },
     "execution_count": 63,
     "metadata": {},
     "output_type": "execute_result"
    },
    {
     "data": {
      "image/png": "[encoded data removed]",
      "text/plain": [
       "<Figure size 504x360 with 1 Axes>"
      ]
     },
     "metadata": {},
     "output_type": "display_data"
    }
   ],
   "source": [
    "fig_int, ax = plt.subplots(figsize=(7,5))\n",
    "\n",
    "new_inter = df2_NewMeth['Internacion [dias]']\n",
    "old_inter = df2_OldMeth['Internacion [dias]']\n",
    "\n",
    "# print(old_inter)\n",
    "min_bin = min(new_inter)\n",
    "max_bin = max(new_inter)\n",
    "max_bin = max(old_inter)\n",
    "# print(max_bin,min_bin)\n",
    "\n",
    "bins = np.arange(start=0,stop=max_bin,step=5)\n",
    "\n",
    "xerr=1\n",
    "\n",
    "\n",
    "\n",
    "nlib.mhist(ax,old_inter,bins=bins,xerr=xerr,\n",
    "           label='Old Method')\n",
    "nlib.mhist(ax,new_inter,bins=bins,xerr=xerr,\n",
    "           label='New Method',style_dict=style_dict_5)\n",
    "ax.set_xlabel('dias')\n",
    "\n",
    "ax.set_ylabel('cuentas_norm')\n",
    "ax.legend()\n",
    "ax.set_title('Internacion')\n",
    "# fig.title()\n",
    "# ax.pie(x=df2_NewMeth.index,labels=df2_NewMeth['Patologia'])"
   ]
  },
  {
   "cell_type": "markdown",
   "metadata": {},
   "source": [
    "### Globulos blancos"
   ]
  },
  {
   "cell_type": "code",
   "execution_count": 64,
   "metadata": {
    "scrolled": false
   },
   "outputs": [
    {
     "name": "stderr",
     "output_type": "stream",
     "text": [
      "/usr/lib/python3.8/site-packages/numpy/lib/histograms.py:839: RuntimeWarning: invalid value encountered in greater_equal\n",
      "  keep = (tmp_a >= first_edge)\n",
      "/usr/lib/python3.8/site-packages/numpy/lib/histograms.py:840: RuntimeWarning: invalid value encountered in less_equal\n",
      "  keep &= (tmp_a <= last_edge)\n"
     ]
    },
    {
     "data": {
      "image/png": "[encoded data removed]",
      "text/plain": [
       "<Figure size 504x360 with 2 Axes>"
      ]
     },
     "metadata": {},
     "output_type": "display_data"
    }
   ],
   "source": [
    "fig_GB, ax = plt.subplots(1,2,figsize=(7,5))\n",
    "new_GB05=df2_NewMeth['Glob.B > 0.5k [dias]']\n",
    "old_GB05=df2_OldMeth['Glob.B > 0.5k [dias]']\n",
    "\n",
    "new_GB10=df2_NewMeth['Glob.B > 1k [dias]']\n",
    "old_GB10=df2_OldMeth['Glob.B > 1k [dias]']\n",
    "\n",
    "xerr=1\n",
    "\n",
    "nlib.mhist(ax[0],new_GB05,bins=None,xerr=xerr,\n",
    "           label='New Method $> 0.5$$k$')\n",
    "nlib.mhist(ax[0],old_GB05,bins=None,xerr=xerr,\n",
    "           label='Old Method $> 0.5$$k$',style_dict=style_dict_4)\n",
    "\n",
    "nlib.mhist(ax[1],new_GB10,bins=None,xerr=xerr,\n",
    "           label='New Method $> 1.0$$k$',style_dict=style_dict_2)\n",
    "nlib.mhist(ax[1],old_GB10,bins=None,xerr=xerr,\n",
    "           label='Old Method $> 1.0$$k$',style_dict=style_dict_3)\n",
    "\n",
    "\n",
    "for axes in ax:\n",
    "    axes.set_xlabel('dias')\n",
    "    axes.set_ylabel('cuentas_norm')\n",
    "    axes.legend(loc='best',prop={'size': 8})\n",
    "    axes.set_title('Globulos Blancos')\n",
    "\n",
    "# ax[1].set_xlabel('dias')\n",
    "# ax[1].set_ylabel('cuentas_norm')\n",
    "# ax[1].legend(loc='best',prop={'size': 8})\n",
    "# ax[1].set_title('Globulos Blancos')\n",
    "\n",
    "\n",
    "plt.subplots_adjust(left=0.0015,right=0.995,wspace=0.32)"
   ]
  },
  {
   "cell_type": "markdown",
   "metadata": {},
   "source": [
    "Definimos la _Hipótesis Nula_ :\n",
    "\n",
    "\\begin{equation}\n",
    "H_0 = \\mu_{new}^{GB} > \\mu_{old}^{GB}\n",
    "\\end{equation}\n",
    "\n",
    "Definimos la _Hipótesis Alternativa_ :\n",
    "\\begin{equation}\n",
    "H_A = \\mu_{new}^{GB} \\le \\mu_{old}^{GB}\n",
    "\\end{equation}"
   ]
  },
  {
   "cell_type": "markdown",
   "metadata": {},
   "source": [
    "Realizamos nuevamente los t-test para estas muestras con significancia $\\alpha = 0.05$."
   ]
  },
  {
   "cell_type": "code",
   "execution_count": 65,
   "metadata": {},
   "outputs": [],
   "source": [
    "old_GB05.dropna(inplace=True)\n",
    "new_GB05.dropna(inplace=True)\n",
    "\n",
    "old_GB10.dropna(inplace=True)\n",
    "new_GB10.dropna(inplace=True)"
   ]
  },
  {
   "cell_type": "code",
   "execution_count": 66,
   "metadata": {},
   "outputs": [],
   "source": [
    "# --computing T-Test from sample\n",
    "statsGB05, p_valueGB05 = stats.ttest_ind(new_GB05,old_GB05, axis=0, equal_var=True, nan_policy='raise')\n",
    "statsGB10, p_valueGB10 = stats.ttest_ind(new_GB10,old_GB10, axis=0, equal_var=True, nan_policy='raise')"
   ]
  },
  {
   "cell_type": "code",
   "execution_count": 67,
   "metadata": {},
   "outputs": [
    {
     "name": "stdout",
     "output_type": "stream",
     "text": [
      "GB05: statistics = 0.13\n",
      "GB05: el p_valor_vol es 9.e-01\n",
      "\n",
      "GB10: statistics = 0.0\n",
      "GB10: el p_valor_vol es 1.e+00\n"
     ]
    }
   ],
   "source": [
    "print(f'GB05: statistics = {np.round(statsGB05,2)}')\n",
    "print(f'GB05: el p_valor_vol es {np.format_float_scientific(p_valueGB05, precision=0)}')\n",
    "print()\n",
    "print(f'GB10: statistics = {np.round(statsGB10,2)}')\n",
    "print(f'GB10: el p_valor_vol es {np.format_float_scientific(p_valueGB10, precision=0)}')"
   ]
  },
  {
   "cell_type": "markdown",
   "metadata": {},
   "source": [
    "## Conclusion\n",
    "\n",
    "Para ambas muestras de Globulos Blancos fallamos en rechazar la hipotesis nula por falta de significancia.\n",
    "Para la muestra $>0.5$$k$ el $p_{valor}$ equivalente para el test a izquierda es $0.8 > 0.05$.\n"
   ]
  },
  {
   "cell_type": "code",
   "execution_count": 68,
   "metadata": {},
   "outputs": [
    {
     "data": {
      "image/png": "[encoded data removed]",
      "text/plain": [
       "<Figure size 432x288 with 2 Axes>"
      ]
     },
     "metadata": {},
     "output_type": "display_data"
    }
   ],
   "source": [
    "fig_GB, ax = plt.subplots(1,2)\n",
    "new_P25=df2_NewMeth['Plaq > 25k [dias]']\n",
    "old_P25=df2_OldMeth['Plaq > 25k [dias]']\n",
    "\n",
    "new_P50=df2_NewMeth['Plaq > 50k [dias]']\n",
    "old_P50=df2_OldMeth['Plaq > 50k [dias]']\n",
    "\n",
    "nlib.mhist(ax[0],new_P25,bins=None,label='New Method $> 25$$k$')\n",
    "nlib.mhist(ax[0],old_P25,bins=None,label='Old Method $> 25$$k$',style_dict=style_dict_2)\n",
    "\n",
    "\n",
    "nlib.mhist(ax[1],new_P50,bins=None,label='New Method $> 50$$k$',style_dict=style_dict_4)\n",
    "nlib.mhist(ax[1],old_P50,bins=None,label='Old Method $> 50$$k$',style_dict=style_dict_3)\n",
    "\n",
    "\n",
    "for axes in ax:\n",
    "    axes.set_xlabel('dias')\n",
    "    axes.set_ylabel('cuentas_norm')\n",
    "    axes.legend(loc='best',prop={'size': 8})\n",
    "    axes.set_title('Plaquetas')\n",
    "\n",
    "\n",
    "plt.subplots_adjust(left=0.0015,right=0.995,wspace=0.4)"
   ]
  },
  {
   "cell_type": "code",
   "execution_count": 69,
   "metadata": {},
   "outputs": [
    {
     "name": "stdout",
     "output_type": "stream",
     "text": [
      "Glob.B > 0.5k [dias]    11.0\n",
      "Glob.B > 1k [dias]      12.0\n",
      "Plaq > 25k [dias]       14.0\n",
      "Plaq > 50k [dias]       20.0\n",
      "Internacion [dias]      24.0\n",
      "dtype: float64 Glob.B > 0.5k [dias]    2.0\n",
      "Glob.B > 1k [dias]      2.0\n",
      "Plaq > 25k [dias]       5.0\n",
      "Plaq > 50k [dias]       8.0\n",
      "Internacion [dias]      9.0\n",
      "dtype: float64\n",
      "\n",
      "Glob.B > 0.5k [dias]    11.0\n",
      "Glob.B > 1k [dias]      12.0\n",
      "Plaq > 25k [dias]       15.0\n",
      "Plaq > 50k [dias]       18.0\n",
      "Internacion [dias]      27.0\n",
      "dtype: float64 Glob.B > 0.5k [dias]     3.0\n",
      "Glob.B > 1k [dias]       3.0\n",
      "Plaq > 25k [dias]        9.0\n",
      "Plaq > 50k [dias]       11.0\n",
      "Internacion [dias]      21.0\n",
      "dtype: float64\n"
     ]
    }
   ],
   "source": [
    "cols =['Glob.B > 0.5k [dias]','Glob.B > 1k [dias]','Plaq > 25k [dias]','Plaq > 50k [dias]','Internacion [dias]']\n",
    "\n",
    "df2_OldMeth[cols].astype(dtype='float64')\n",
    "\n",
    "\n",
    "pdf = df2_OldMeth['Plaq > 50k [dias]']\n",
    "avg = pdf.mean()\n",
    "# calc = avg+5*std\n",
    "pdf.mask(pdf > 3*avg, inplace=True)\n",
    "\n",
    "avg_recov_NM = np.round(df2_NewMeth.loc[:,cols].mean())\n",
    "std_recov_NM = np.round(df2_NewMeth.loc[:,cols].std())\n",
    "\n",
    "print(avg_recov_NM,std_recov_NM)\n",
    "print()\n",
    "\n",
    "\n",
    "avg_recov_OM = np.round(df2_OldMeth.loc[:,cols].mean())\n",
    "std_recov_OM = np.round(df2_OldMeth.loc[:,cols].std())\n",
    "\n",
    "print(avg_recov_OM,std_recov_OM)\n",
    "\n",
    "# print(len(cols),len(avg_recov_NM),len(avg_recov_OM))"
   ]
  },
  {
   "cell_type": "code",
   "execution_count": 70,
   "metadata": {},
   "outputs": [],
   "source": [
    "# -- We need to mask some values\n",
    "\n",
    "avg = avg_recov_OM['Plaq > 50k [dias]']\n",
    "std = std_recov_OM['Plaq > 50k [dias]']\n",
    "# df2_OldMeth.mask(cond=None,inplace=True)\n",
    "pdf = df2_OldMeth['Plaq > 50k [dias]']\n",
    "calc = avg+5*std\n",
    "pdf.mask(pdf > calc, inplace=True)\n",
    "\n",
    "# print(df2_OldMeth['Plaq > 50k [dias]'], pdf)"
   ]
  },
  {
   "cell_type": "code",
   "execution_count": 71,
   "metadata": {},
   "outputs": [
    {
     "data": {
      "image/png": "[encoded data removed]",
      "text/plain": [
       "<Figure size 504x360 with 2 Axes>"
      ]
     },
     "metadata": {},
     "output_type": "display_data"
    }
   ],
   "source": [
    "fig_GB, ax = plt.subplots(1,2,figsize=(7,5))\n",
    "new_P25=df2_NewMeth['Plaq > 25k [dias]']\n",
    "old_P25=df2_OldMeth['Plaq > 25k [dias]']\n",
    "\n",
    "new_P50=df2_NewMeth['Plaq > 50k [dias]']\n",
    "old_P50=df2_OldMeth['Plaq > 50k [dias]']\n",
    "\n",
    "nlib.mhist(ax[0],new_P25,bins=None,xerr=xerr,\n",
    "           label='New Method $> 25$$k$')\n",
    "nlib.mhist(ax[0],old_P25,bins=None,xerr=xerr,\n",
    "           label='Old Method $> 25$$k$',style_dict=style_dict_4)\n",
    "\n",
    "\n",
    "nlib.mhist(ax[1],new_P50,bins=None,xerr=xerr,\n",
    "           label='New Method $> 50$$k$',style_dict=style_dict_2)\n",
    "nlib.mhist(ax[1],old_P50,bins=None,xerr=xerr,\n",
    "           label='Old Method $> 50$$k$',style_dict=style_dict_3)\n",
    "\n",
    "\n",
    "for axes in ax:\n",
    "    axes.set_xlabel('dias')\n",
    "    axes.set_ylabel('cuentas_norm')\n",
    "    axes.legend(loc='best',prop={'size': 9})\n",
    "    axes.set_title('Plaquetas')\n",
    "\n",
    "\n",
    "plt.subplots_adjust(left=0.0015,right=0.995,wspace=0.4)"
   ]
  },
  {
   "cell_type": "code",
   "execution_count": null,
   "metadata": {},
   "outputs": [],
   "source": []
  },
  {
   "cell_type": "code",
   "execution_count": 72,
   "metadata": {
    "scrolled": true
   },
   "outputs": [
    {
     "data": {
      "text/plain": [
       "([0, 1, 2, 3, 4], <a list of 5 Text xticklabel objects>)"
      ]
     },
     "execution_count": 72,
     "metadata": {},
     "output_type": "execute_result"
    },
    {
     "data": {
      "image/png": "[encoded data removed]",
      "text/plain": [
       "<Figure size 432x288 with 1 Axes>"
      ]
     },
     "metadata": {},
     "output_type": "display_data"
    }
   ],
   "source": [
    "fig, ax = plt.subplots()\n",
    "labels=['Glob.B > 0.5k','Glob.B > 1k','Plaq > 25k','Plaq > 50k', 'Internacion']\n",
    "\n",
    "nlib.mplot(ax,x=labels,y=avg_recov_NM,\n",
    "           label='Metodo Nuevo',\n",
    "           yerr=std_recov_NM,xerr=0)\n",
    "\n",
    "style = {'marker':'>',\n",
    "         'mfc':'none',\n",
    "         'color':'grey',\n",
    "         'linestyle':'--'\n",
    "        }\n",
    "nlib.mplot(ax,x=labels,y=avg_recov_OM,\n",
    "           label='Metodo Viejo',\n",
    "           yerr=std_recov_OM,xerr=0,\n",
    "           style_dict=style)\n",
    "\n",
    "ax.legend(loc='upper center')\n",
    "ax.set_ylabel('dias')\n",
    "plt.xticks(rotation=35)\n",
    "\n",
    "# labels=['Glob.B > 0.5k','Glob.B > 1k','Plaq > 25k','Plaq > 50k', 'Internacion']\n",
    "# set_axis_style(ax,labels)\n"
   ]
  },
  {
   "cell_type": "code",
   "execution_count": 73,
   "metadata": {},
   "outputs": [
    {
     "name": "stderr",
     "output_type": "stream",
     "text": [
      "<ipython-input-73-2cdd58a95307>:8: SettingWithCopyWarning: \n",
      "A value is trying to be set on a copy of a slice from a DataFrame\n",
      "\n",
      "See the caveats in the documentation: https://pandas.pydata.org/pandas-docs/stable/user_guide/indexing.html#returning-a-view-versus-a-copy\n",
      "  Oevol.dropna(inplace=True)\n",
      "<ipython-input-73-2cdd58a95307>:9: SettingWithCopyWarning: \n",
      "A value is trying to be set on a copy of a slice from a DataFrame\n",
      "\n",
      "See the caveats in the documentation: https://pandas.pydata.org/pandas-docs/stable/user_guide/indexing.html#returning-a-view-versus-a-copy\n",
      "  Nevol.dropna(inplace=True)\n"
     ]
    },
    {
     "data": {
      "image/png": "[encoded data removed]",
      "text/plain": [
       "<Figure size 432x288 with 1 Axes>"
      ]
     },
     "metadata": {},
     "output_type": "display_data"
    }
   ],
   "source": [
    "fig_viol, ax = plt.subplots()\n",
    "\n",
    "\n",
    "Nevol = df2_NewMeth[cols]\n",
    "Oevol = df2_OldMeth[cols]\n",
    "\n",
    "# -- doesn't work with nan vals\n",
    "Oevol.dropna(inplace=True)\n",
    "Nevol.dropna(inplace=True)\n",
    "\n",
    "# -- requiers np style\n",
    "Nevol= Nevol.to_numpy()\n",
    "Oevol= Oevol.to_numpy()\n",
    "\n",
    "# -- Draw both\n",
    "ax.violinplot(Nevol,showmeans=True)\n",
    "ax.violinplot(Oevol,showmeans=True)\n",
    "\n",
    "def set_axis_style(ax, labels):\n",
    "    ax.get_xaxis().set_tick_params(direction='out')\n",
    "    ax.xaxis.set_ticks_position('bottom')\n",
    "    ax.set_xticks(np.arange(1, len(labels) + 1))\n",
    "    ax.set_xticklabels(labels)\n",
    "    ax.set_xlim(0.25, len(labels) + 0.75)\n",
    "    ax.set_xlabel('Evolucion paciente')\n",
    "    \n",
    "    ax.set_ylabel('Dias')\n",
    "    ax.set_ylim(top=50)\n",
    "    \n",
    "plt.xticks(rotation=45)\n",
    "\n",
    "labels=['Glob.B > 0.5k','Glob.B > 1k','Plaq > 25k','Plaq > 50k', 'Internacion']\n",
    "set_axis_style(ax,labels)\n",
    "\n",
    "# ax.set_xlabel(cols)\n",
    "\n"
   ]
  },
  {
   "cell_type": "markdown",
   "metadata": {},
   "source": [
    "# Ahorro - Analisis 4"
   ]
  },
  {
   "cell_type": "code",
   "execution_count": null,
   "metadata": {},
   "outputs": [],
   "source": [
    "from datetime import date\n",
    "\n",
    "# --Get from Date col the year of the procedure\n",
    "Oyears = df_OldMeth['Fecha'].dt.year\n",
    "Nyears = df_NewMeth['Fecha'].dt.year\n",
    "\n",
    "# --Count how many procedures were made that year\n",
    "Odist_byDate = Oyears.value_counts()\n",
    "Ndist_byDate = Nyears.value_counts()\n",
    "\n",
    "# --Add all to same DF\n",
    "df_tot = pd.concat([Odist_byDate,Ndist_byDate]).groupby(by=df_tot.index).sum()"
   ]
  },
  {
   "cell_type": "markdown",
   "metadata": {},
   "source": [
    "*Parametros*"
   ]
  },
  {
   "cell_type": "code",
   "execution_count": 144,
   "metadata": {},
   "outputs": [
    {
     "name": "stdout",
     "output_type": "stream",
     "text": [
      "Metodo viejo n = 18.0(3.0)\n"
     ]
    }
   ],
   "source": [
    "# -- Get mean and std\n",
    "\n",
    "n = np.round(df_tot.mean())    # mean annual processes\n",
    "n_err = np.round(df_tot.std()/np.sqrt(n),0)\n",
    "\n",
    "print(f'Metodo viejo n = {n}({n_err})')\n"
   ]
  },
  {
   "cell_type": "code",
   "execution_count": 145,
   "metadata": {},
   "outputs": [],
   "source": [
    "# --supongamos en u$\n",
    "# u:: costos x proceso\n",
    "u = 500\n",
    "u_err = 10\n",
    "\n",
    "quality_gain = abs(mean_new - mean_old)\n"
   ]
  },
  {
   "cell_type": "code",
   "execution_count": 146,
   "metadata": {},
   "outputs": [],
   "source": [
    "def prop_err_sav(mean_new,mean_old,n,u,err_new,err_old,err_n,err_u):\n",
    "    t1=mean_old*n*u*err_new\n",
    "    t2=mean_new*u*n*err_old\n",
    "    t3=(mean_new - mean_old)*n*err_u\n",
    "    t4=(mean_new - mean_old)*u*err_n\n",
    "    return np.sqrt(t1**2+t2**2+t3**2+t4**2)\n",
    "    "
   ]
  },
  {
   "cell_type": "code",
   "execution_count": 150,
   "metadata": {},
   "outputs": [
    {
     "name": "stdout",
     "output_type": "stream",
     "text": [
      "ahorro = 9720.0(3248.0)\n"
     ]
    }
   ],
   "source": [
    "def ahorro(mean_new,mean_old,u,n):\n",
    "    savings = abs(mean_new - mean_old) * u * n\n",
    "    return savings\n",
    "# err_savings =\n",
    "\n",
    "err_saving = prop_err_sav(mean_new,mean_old,n,u,mean_new_err,mean_old_err,n_err,u_err)\n",
    "\n",
    "err_saving=np.round(err_saving,0)\n",
    "\n",
    "saving = np.round(ahorro(mean_new,mean_old,u,n),2)\n",
    "print(f'ahorro = {saving}({err_saving})')\n",
    "\n",
    "\n"
   ]
  }
 ],
 "metadata": {
  "kernelspec": {
   "display_name": "Python 3",
   "language": "python",
   "name": "python3"
  },
  "language_info": {
   "codemirror_mode": {
    "name": "ipython",
    "version": 3
   },
   "file_extension": ".py",
   "mimetype": "text/x-python",
   "name": "python",
   "nbconvert_exporter": "python",
   "pygments_lexer": "ipython3",
   "version": "3.8.2"
  }
 },
 "nbformat": 4,
 "nbformat_minor": 4
}
